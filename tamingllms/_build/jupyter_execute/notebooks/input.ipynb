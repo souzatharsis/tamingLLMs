{
 "cells": [
  {
   "cell_type": "markdown",
   "metadata": {},
   "source": [
    "(input)=\n",
    "# Managing Input Data\n",
    "```{epigraph}\n",
    "One home run is much better than two doubles.\n",
    "\n",
    "-- Steve Jobs\n",
    "```\n",
    "```{contents}\n",
    "```"
   ]
  },
  {
   "cell_type": "markdown",
   "metadata": {},
   "source": [
    "## Introduction\n",
    "\n",
    "While advances in long-context language models (LCs) {cite}`lee2024longcontextlanguagemodelssubsume` have expanded the amount of information these LLMs can process, significant challenges remain in managing and effectively utilizing extended data inputs:\n",
    "\n",
    "- LLMs are sensitive to input formatting and structure, requiring careful data preparation to achieve optimal results {cite}`he2024doespromptformattingimpact, liu2024enhancingllmscognitionstructurization, tan2024htmlraghtmlbetterplain`.\n",
    "- LLMs operate with knowledge cutoffs, providing potentially outdated information that may not reflect current reality and demonstrate problems with temporal knowledge accuracy {cite}`amayuelas-etal-2024-knowledge`.\n",
    "- LLMs also face \"lost-in-the-middle\" problems {cite}`wu2024longdocumentsummaryevaluation` and struggle with less common but important information showing a systematic loss of long-tail knowledge {cite}`kotha2024understanding`.\n",
    "\n",
    "Motivated by these challenges, this chapter explores two key input data components:\n",
    "\n",
    "1. Data Pre-Processing: Parsing and chunking documents into a unified format that is suitable and manageable for LLMs to process effectively.\n",
    "2. Retrieval Augmentation: Augmenting LLMs with the ability to retrieve relevant, recent, and specialized information.\n",
    "\n",
    "In data parsing, we will explore some useful open source tools such as Docling and MarkItDown that help transform data into LLM-compatible formats, demonstrating their impact through a case study of structured information extraction from complex PDFs. In a second case study, we will introduce some chunking strategies to help LLMs process long inputs and implement a particular technique called Chunking with Contextual Linking the enables contextually relevant chunk processing.\n",
    "\n",
    "In retrieval augmentation, we will explore how to enhance LLMs with semantic search capabilities for incorporating external context using RAGs (Retrieval Augmented Generation) using Vector Databases such as ChromaDB. We also discuss whether RAGs will be really needed in the future given the rise of long-context language models.\n",
    "\n",
    "While RAGs are useful for incorporating external context, they are not a silver bullet nor a mandatory component for all LLM applications. In our last case study, we demonstrate how long-context windows can be used to extract insights from a large knowledge base without the need for complex retrieval systems. We build a quiz generator from open books from Project Gutenberg. We will also explore some additional relevant techniques such as prompt caching and response verification through citations using \"Corpus-in-Context\" (CIC) Prompting {cite}`lee2024longcontextlanguagemodelssubsume`.\n",
    "\n",
    "By the chapter's conclusion, readers will possess relevant knowledge of input data management strategies for LLMs and practical expertise in selecting and implementing appropriate approaches and tools for specific use cases."
   ]
  },
  {
   "cell_type": "markdown",
   "metadata": {},
   "source": [
    "(parsing)=\n",
    "## Parsing Documents\n",
    "\n",
    "Data parsing and formatting play a critical role in LLMs performance {cite}`he2024doespromptformattingimpact, liu2024enhancingllmscognitionstructurization, tan2024htmlraghtmlbetterplain`. Hence, building robust data ingestion and preprocessing pipelines is essential for any LLM application. \n",
    "\n",
    "This section explores open source tools that streamline input data processing, in particular for parsing purposes, providing a unified interface for converting diverse data formats into standardized representations that LLMs can effectively process. By abstracting away format-specific complexities, they allow developers to focus on core application logic rather than parsing implementation details while maximizing LLM's performance.\n",
    "\n",
    "We will cover open source tools that provide parsing capabilities for a wide range of data formats. And we will show how some of these tools can be used to extract structured information from complex PDFs demonstrating how the quality of the parser can impact LLM's performance."
   ]
  },
  {
   "cell_type": "markdown",
   "metadata": {},
   "source": [
    "### MarkItDown\n",
    "\n",
    "MarkItDown {cite}`microsoft2024markitdown` is a Python package and CLI tool developed by the Microsoft for converting various file formats to Markdown. It supports a wide range of formats including PDF, PowerPoint, Word, Excel, images (with OCR and EXIF metadata), audio (with transcription), HTML, and other text-based formats making it a useful tool for document indexing and LLM-based applications.\n",
    "\n",
    "Key features:\n",
    "- Simple command-line and Python API interfaces\n",
    "- Support for multiple file formats\n",
    "- Optional LLM integration for enhanced image descriptions\n",
    "- Batch processing capabilities\n",
    "- Docker support for containerized usage\n",
    "\n",
    "Sample usage:\n",
    "```python\n",
    "from markitdown import MarkItDown\n",
    "\n",
    "md = MarkItDown()\n",
    "result = md.convert(\"test.xlsx\")\n",
    "print(result.text_content)\n",
    "```\n",
    "\n",
    "### Docling\n",
    "\n",
    "Docling {cite}`docling2024github` is a Python package developed by IBM Research for parsing and converting documents into various formats. It provides advanced document understanding capabilities with a focus on maintaining document structure and formatting.\n",
    "\n",
    "Key features:\n",
    "- Support for multiple document formats (PDF, DOCX, PPTX, XLSX, Images, HTML, etc.)\n",
    "- Advanced PDF parsing including layout analysis and table extraction\n",
    "- Unified document representation format\n",
    "- Integration with LlamaIndex and LangChain\n",
    "- OCR support for scanned documents\n",
    "- Simple CLI interface\n",
    "\n",
    "Sample usage:\n",
    "```python\n",
    "from docling.document_converter import DocumentConverter\n",
    "\n",
    "converter = DocumentConverter()\n",
    "result = converter.convert(\"document.pdf\")\n",
    "print(result.document.export_to_markdown())\n",
    "```"
   ]
  },
  {
   "cell_type": "markdown",
   "metadata": {},
   "source": [
    "### Structured Data Extraction"
   ]
  },
  {
   "cell_type": "markdown",
   "metadata": {},
   "source": [
    "A common use case where document parsing matters is structured data extraction, particularly in the presence of complex formatting and layout. In this case study, we will extract the economic forecasts from Merrill Lynch's CIO Capital Market Outlook released on December 16, 2024 {cite}`merrill2024`. We will focus on page 7 of this document, which contains several economic variables organized in a mix of tables, text and images (see {numref}`forecast`).\n",
    "\n",
    "\n",
    "```{figure} ../_static/input/forecast.png\n",
    "---\n",
    "name: forecast\n",
    "alt: Forecast\n",
    "scale: 45%\n",
    "align: center\n",
    "---\n",
    "Merrill Lynch's CIO Capital Market Outlook released on December 16, 2024 {cite}`merrill2024`\n",
    "```"
   ]
  },
  {
   "cell_type": "code",
   "execution_count": 76,
   "metadata": {},
   "outputs": [],
   "source": [
    "FORECAST_FILE_PATH = \"../data/input/forecast.pdf\"\n"
   ]
  },
  {
   "cell_type": "markdown",
   "metadata": {},
   "source": [
    "First, we will use MarkItDown to extract the text content from the document."
   ]
  },
  {
   "cell_type": "code",
   "execution_count": 83,
   "metadata": {},
   "outputs": [],
   "source": [
    "from markitdown import MarkItDown\n",
    "\n",
    "md = MarkItDown()\n",
    "result_md = md.convert(FORECAST_FILE_PATH).text_content"
   ]
  },
  {
   "cell_type": "markdown",
   "metadata": {},
   "source": [
    "Next, we will do the same with Docling."
   ]
  },
  {
   "cell_type": "code",
   "execution_count": null,
   "metadata": {},
   "outputs": [],
   "source": [
    "from docling.document_converter import DocumentConverter\n",
    "\n",
    "converter = DocumentConverter()\n",
    "forecast_result_docling = converter.convert(source).document.export_to_markdown()"
   ]
  },
  {
   "cell_type": "markdown",
   "metadata": {},
   "source": [
    "How similar are the two results? We can use use Levenshtein distance to measure the similarity between the two results. We will also calculate a naive score using the `SequenceMatcher` from the `difflib` package, which is a simple measure of similarity between two strings based on the number of matches in the longest common subsequence."
   ]
  },
  {
   "cell_type": "code",
   "execution_count": 79,
   "metadata": {},
   "outputs": [],
   "source": [
    "import Levenshtein\n",
    "def levenshtein_similarity(text1: str, text2: str) -> float:\n",
    "    \"\"\"\n",
    "    Calculate normalized Levenshtein distance\n",
    "    Returns value between 0 (completely different) and 1 (identical)\n",
    "    \"\"\"\n",
    "    distance = Levenshtein.distance(text1, text2)\n",
    "    max_len = max(len(text1), len(text2))\n",
    "    return 1 - (distance / max_len)\n",
    "\n",
    "from difflib import SequenceMatcher\n",
    "def simple_similarity(text1: str, text2: str) -> float:\n",
    "    \"\"\"\n",
    "    Calculate similarity ratio using SequenceMatcher\n",
    "    Returns value between 0 (completely different) and 1 (identical)\n",
    "    \"\"\"\n",
    "    return SequenceMatcher(None, text1, text2).ratio()"
   ]
  },
  {
   "cell_type": "code",
   "execution_count": 80,
   "metadata": {},
   "outputs": [
    {
     "data": {
      "text/plain": [
       "0.13985705461925346"
      ]
     },
     "execution_count": 80,
     "metadata": {},
     "output_type": "execute_result"
    }
   ],
   "source": [
    "levenshtein_similarity(forecast_result_md, forecast_result_docling)"
   ]
  },
  {
   "cell_type": "code",
   "execution_count": 81,
   "metadata": {},
   "outputs": [
    {
     "data": {
      "text/plain": [
       "0.17779960707269155"
      ]
     },
     "execution_count": 81,
     "metadata": {},
     "output_type": "execute_result"
    }
   ],
   "source": [
    "simple_similarity(forecast_result_md, forecast_result_docling)"
   ]
  },
  {
   "cell_type": "markdown",
   "metadata": {},
   "source": [
    "It turns out that the two results are quite different, with a similarity score of about 13.98% and 17.77% for Levenshtein and `SequenceMatcher`, respectively."
   ]
  },
  {
   "cell_type": "markdown",
   "metadata": {},
   "source": [
    "Docling's result is a quite readable markdown displaying key economic variables and their forecasts. Conversely, MarkItDown's result is a bit messy and hard to read but the information is there just not in a structured format. Does it matter? That's what we will explore next."
   ]
  },
  {
   "cell_type": "markdown",
   "metadata": {},
   "source": [
    "**Docling's result**"
   ]
  },
  {
   "cell_type": "code",
   "execution_count": null,
   "metadata": {},
   "outputs": [],
   "source": [
    "display(Markdown(forecast_result_docling))"
   ]
  },
  {
   "cell_type": "markdown",
   "metadata": {},
   "source": [
    "{numref}`docling` shows part of the parsed result from Docling."
   ]
  },
  {
   "cell_type": "markdown",
   "metadata": {},
   "source": [
    "```{figure} ../_static/input/docling.png\n",
    "---\n",
    "name: docling\n",
    "alt: Docling's result\n",
    "scale: 40%\n",
    "align: center\n",
    "---\n",
    "An extract of Docling's parsed result.\n",
    "```\n"
   ]
  },
  {
   "cell_type": "markdown",
   "metadata": {},
   "source": [
    "**MarkItDown's result**"
   ]
  },
  {
   "cell_type": "code",
   "execution_count": null,
   "metadata": {},
   "outputs": [],
   "source": [
    "from IPython.display import display, Markdown\n",
    "display(Markdown(forecast_result_md[:500]))"
   ]
  },
  {
   "cell_type": "markdown",
   "metadata": {},
   "source": [
    "{numref}`markitdown` shows part of the parsed result from MarkItDown.\n",
    "\n",
    "```{figure} ../_static/input/markitdown.png\n",
    "---\n",
    "name: markitdown\n",
    "alt: MarkItDown's parsed result\n",
    "scale: 40%\n",
    "align: center\n",
    "---\n",
    "An extract of MarkItDown's parsed result.\n",
    "```"
   ]
  },
  {
   "cell_type": "markdown",
   "metadata": {},
   "source": [
    "Now, let's focus on the economic forecasts. In particular, we are interested in extracting the CIO's 2025E forecasts. This could be a useful predictive indicator for the economy in 2025.\n",
    "\n",
    "```{figure} ../_static/input/2025.png\n",
    "---\n",
    "name: forecast2025\n",
    "alt: Forecast 2025\n",
    "scale: 40%\n",
    "align: center\n",
    "---\n",
    "Merrill Lynch's CIO Economic Forecasts.\n",
    "```\n",
    "\n",
    "We will define a `Forecast` pydantic model to represent an economic forecast composed of a `financial_variable` and a `financial_forecast`. We will also define a `EconForecast` pydantic model to represent the list of economic forecasts we want to extract from the document.\n"
   ]
  },
  {
   "cell_type": "code",
   "execution_count": 12,
   "metadata": {},
   "outputs": [],
   "source": [
    "from pydantic import BaseModel\n",
    "class Forecast(BaseModel):\n",
    "    financial_variable: str\n",
    "    financial_forecast: float\n",
    "class EconForecast(BaseModel):\n",
    "    forecasts: list[Forecast]\n"
   ]
  },
  {
   "cell_type": "markdown",
   "metadata": {},
   "source": [
    "We write a simple function to extract the economic forecasts from the document using an LLM model (with structured output) with the following prompt template, where `extract_prompt` represents the kind of data the user would like to extract and `doc` is the input document."
   ]
  },
  {
   "cell_type": "markdown",
   "metadata": {},
   "source": [
    "```python\n",
    "BASE_PROMPT = f\"\"\"\n",
    "    ROLE: You are an expert at structured data extraction. \n",
    "    TASK: Extract the following data {extract_prompt} from input DOCUMENT\n",
    "    FORMAT: The output should be a JSON object with 'financial_variable' as key and 'financial_forecast' as value.\n",
    "    \"\"\"\n",
    "prompt = f\"{BASE_PROMPT} \\n\\n DOCUMENT: {doc}\"\n",
    "```"
   ]
  },
  {
   "cell_type": "code",
   "execution_count": 84,
   "metadata": {},
   "outputs": [],
   "source": [
    "def extract_from_doc(extract_prompt: str,  doc: str, client) -> EconForecast:\n",
    "    \"\"\"\n",
    "    Extract data of a financial document using an LLM model.\n",
    "    \n",
    "    Args:\n",
    "        doc: The financial document text to analyze\n",
    "        client: The LLM model to use for analysis\n",
    "        extract_prompt: The prompt to use for extraction\n",
    "        \n",
    "    Returns:\n",
    "        EconForecasts object containing sentiment analysis results\n",
    "    \"\"\"\n",
    "\n",
    "    BASE_PROMPT = f\"\"\"\n",
    "    ROLE: You are an expert at structured data extraction. \n",
    "    TASK: Extract the following data {extract_prompt} from input DOCUMENT\n",
    "    FORMAT: The output should be a JSON object with 'financial_variable' as key and 'financial_forecast' as value.\n",
    "    \"\"\"\n",
    "    prompt = f\"{BASE_PROMPT} \\n\\n DOCUMENT: {doc}\"\n",
    "    completion = client.beta.chat.completions.parse(\n",
    "        model=\"gpt-4o-mini\",\n",
    "        messages=[\n",
    "            {\n",
    "                \"role\": \"system\",\n",
    "                \"content\": prompt\n",
    "            },\n",
    "            {\"role\": \"user\", \"content\": doc}\n",
    "        ],\n",
    "        response_format=EconForecast\n",
    "    )\n",
    "    return completion.choices[0].message.parsed"
   ]
  },
  {
   "cell_type": "code",
   "execution_count": 22,
   "metadata": {},
   "outputs": [],
   "source": [
    "from dotenv import load_dotenv\n",
    "import os\n",
    "\n",
    "# Load environment variables from .env file\n",
    "load_dotenv(override=True)\n",
    "from openai import OpenAI\n",
    "client = OpenAI()"
   ]
  },
  {
   "cell_type": "markdown",
   "metadata": {},
   "source": [
    "The user then calls the `extract_from_doc` function simply defining that \"Economic Forecasts for 2025E\" is the data they would like to extract from the document. We perform the extraction twice, once with MarkItDown and once with Docling."
   ]
  },
  {
   "cell_type": "code",
   "execution_count": 30,
   "metadata": {},
   "outputs": [],
   "source": [
    "extract_prompt = \"Economic Forecasts for 2025E\"\n",
    "md_financials = extract_from_doc(extract_prompt, forecast_result_md, client)\n",
    "docling_financials = extract_from_doc(extract_prompt, forecast_result_docling, client)"
   ]
  },
  {
   "cell_type": "markdown",
   "metadata": {},
   "source": [
    "The response is an `EconForecast` object containing a list of `Forecast` objects, as defined in the pydantic model. We can then convert the response to a pandas DataFrame for easier comparison."
   ]
  },
  {
   "cell_type": "code",
   "execution_count": 99,
   "metadata": {},
   "outputs": [
    {
     "data": {
      "text/plain": [
       "EconForecast(forecasts=[Forecast(financial_variable='Real global GDP (% y/y annualized)', financial_forecast=3.2), Forecast(financial_variable='Real U.S. GDP (% q/q annualized)', financial_forecast=2.4), Forecast(financial_variable='CPI inflation (% y/y)', financial_forecast=2.5), Forecast(financial_variable='Core CPI inflation (% y/y)', financial_forecast=3.0), Forecast(financial_variable='Unemployment rate (%)', financial_forecast=4.3), Forecast(financial_variable='Fed funds rate, end period (%)', financial_forecast=3.88)])"
      ]
     },
     "execution_count": 99,
     "metadata": {},
     "output_type": "execute_result"
    }
   ],
   "source": [
    "md_financials"
   ]
  },
  {
   "cell_type": "code",
   "execution_count": null,
   "metadata": {},
   "outputs": [],
   "source": [
    "df_md_forecasts = pd.DataFrame([(f.financial_variable, f.financial_forecast) for f in md_financials.forecasts], \n",
    "                      columns=['Variable', 'Forecast'])\n",
    "df_docling_forecasts = pd.DataFrame([(f.financial_variable, f.financial_forecast) for f in docling_financials.forecasts], \n",
    "                      columns=['Variable', 'Forecast'])\n"
   ]
  },
  {
   "cell_type": "code",
   "execution_count": 97,
   "metadata": {},
   "outputs": [
    {
     "data": {
      "text/html": [
       "<div>\n",
       "<style scoped>\n",
       "    .dataframe tbody tr th:only-of-type {\n",
       "        vertical-align: middle;\n",
       "    }\n",
       "\n",
       "    .dataframe tbody tr th {\n",
       "        vertical-align: top;\n",
       "    }\n",
       "\n",
       "    .dataframe thead th {\n",
       "        text-align: right;\n",
       "    }\n",
       "</style>\n",
       "<table border=\"1\" class=\"dataframe\">\n",
       "  <thead>\n",
       "    <tr style=\"text-align: right;\">\n",
       "      <th></th>\n",
       "      <th>Variable</th>\n",
       "      <th>Forecast</th>\n",
       "    </tr>\n",
       "  </thead>\n",
       "  <tbody>\n",
       "    <tr>\n",
       "      <th>0</th>\n",
       "      <td>Real global GDP (% y/y annualized)</td>\n",
       "      <td>3.20</td>\n",
       "    </tr>\n",
       "    <tr>\n",
       "      <th>1</th>\n",
       "      <td>Real U.S. GDP (% q/q annualized)</td>\n",
       "      <td>2.40</td>\n",
       "    </tr>\n",
       "    <tr>\n",
       "      <th>2</th>\n",
       "      <td>CPI inflation (% y/y)</td>\n",
       "      <td>2.50</td>\n",
       "    </tr>\n",
       "    <tr>\n",
       "      <th>3</th>\n",
       "      <td>Core CPI inflation (% y/y)</td>\n",
       "      <td>3.00</td>\n",
       "    </tr>\n",
       "    <tr>\n",
       "      <th>4</th>\n",
       "      <td>Unemployment rate (%)</td>\n",
       "      <td>4.30</td>\n",
       "    </tr>\n",
       "    <tr>\n",
       "      <th>5</th>\n",
       "      <td>Fed funds rate, end period (%)</td>\n",
       "      <td>3.88</td>\n",
       "    </tr>\n",
       "  </tbody>\n",
       "</table>\n",
       "</div>"
      ],
      "text/plain": [
       "                             Variable  Forecast\n",
       "0  Real global GDP (% y/y annualized)      3.20\n",
       "1    Real U.S. GDP (% q/q annualized)      2.40\n",
       "2               CPI inflation (% y/y)      2.50\n",
       "3          Core CPI inflation (% y/y)      3.00\n",
       "4               Unemployment rate (%)      4.30\n",
       "5      Fed funds rate, end period (%)      3.88"
      ]
     },
     "execution_count": 97,
     "metadata": {},
     "output_type": "execute_result"
    }
   ],
   "source": [
    "df_md_forecasts"
   ]
  },
  {
   "cell_type": "code",
   "execution_count": 98,
   "metadata": {},
   "outputs": [
    {
     "data": {
      "text/html": [
       "<div>\n",
       "<style scoped>\n",
       "    .dataframe tbody tr th:only-of-type {\n",
       "        vertical-align: middle;\n",
       "    }\n",
       "\n",
       "    .dataframe tbody tr th {\n",
       "        vertical-align: top;\n",
       "    }\n",
       "\n",
       "    .dataframe thead th {\n",
       "        text-align: right;\n",
       "    }\n",
       "</style>\n",
       "<table border=\"1\" class=\"dataframe\">\n",
       "  <thead>\n",
       "    <tr style=\"text-align: right;\">\n",
       "      <th></th>\n",
       "      <th>Variable</th>\n",
       "      <th>Forecast</th>\n",
       "    </tr>\n",
       "  </thead>\n",
       "  <tbody>\n",
       "    <tr>\n",
       "      <th>0</th>\n",
       "      <td>Real global GDP (% y/y annualized)</td>\n",
       "      <td>3.20</td>\n",
       "    </tr>\n",
       "    <tr>\n",
       "      <th>1</th>\n",
       "      <td>Real U.S. GDP (% q/q annualized)</td>\n",
       "      <td>2.40</td>\n",
       "    </tr>\n",
       "    <tr>\n",
       "      <th>2</th>\n",
       "      <td>CPI inflation (% y/y)</td>\n",
       "      <td>2.50</td>\n",
       "    </tr>\n",
       "    <tr>\n",
       "      <th>3</th>\n",
       "      <td>Core CPI inflation (% y/y)</td>\n",
       "      <td>3.00</td>\n",
       "    </tr>\n",
       "    <tr>\n",
       "      <th>4</th>\n",
       "      <td>Unemployment rate (%)</td>\n",
       "      <td>4.30</td>\n",
       "    </tr>\n",
       "    <tr>\n",
       "      <th>5</th>\n",
       "      <td>Fed funds rate, end period (%)</td>\n",
       "      <td>3.88</td>\n",
       "    </tr>\n",
       "  </tbody>\n",
       "</table>\n",
       "</div>"
      ],
      "text/plain": [
       "                             Variable  Forecast\n",
       "0  Real global GDP (% y/y annualized)      3.20\n",
       "1    Real U.S. GDP (% q/q annualized)      2.40\n",
       "2               CPI inflation (% y/y)      2.50\n",
       "3          Core CPI inflation (% y/y)      3.00\n",
       "4               Unemployment rate (%)      4.30\n",
       "5      Fed funds rate, end period (%)      3.88"
      ]
     },
     "execution_count": 98,
     "metadata": {},
     "output_type": "execute_result"
    }
   ],
   "source": [
    "df_docling_forecasts"
   ]
  },
  {
   "cell_type": "markdown",
   "metadata": {},
   "source": [
    "The results from MarkItDown and Docling are identical and accurately match the true values from the document. This demonstrates that despite MarkItDown's output appearing less readable from a human perspective, both approaches enabled the LLM to successfully extract the economic forecast data with equal accuracy, in this particular case."
   ]
  },
  {
   "cell_type": "markdown",
   "metadata": {},
   "source": [
    "Next, let's focus on the asset class weightings. We will extract the asset class weightings from the document and compare the results from MarkItDown and Docling. The information is now presented in a quite different structure as we can see in  {numref}`asset_class`. The CIO view information is represented in a spectrum starting with \"Underweight\", passing through \"Neutral\" and reaching \"Overweight\". The actual view is marked by some colored dots in the chart. Let's see if we can extract this relatively more complex information from the document.\n",
    "```{figure} ../_static/input/asset_class.png\n",
    "---\n",
    "name: asset_class\n",
    "alt: Asset Class Weightings\n",
    "scale: 50%\n",
    "align: center\n",
    "---\n",
    "Asset Class Weightings\n",
    "```"
   ]
  },
  {
   "cell_type": "markdown",
   "metadata": {},
   "source": [
    "The user will simply define the following data to extract: \"Asset Class Weightings (as of 12/3/2024) in a scale from -2 to 2\". In that way, we expect that \"Underweight\" will be mapped to -2, \"Neutral\" to 0 and \"Overweight\" to 2 with some values in between."
   ]
  },
  {
   "cell_type": "code",
   "execution_count": 41,
   "metadata": {},
   "outputs": [],
   "source": [
    "extract_prompt = \"Asset Class Weightings (as of 12/3/2024) in a scale from -2 to 2\"\n",
    "asset_class_docling = extract_from_doc(extract_prompt, forecast_result_docling, client)\n",
    "asset_class_md = extract_from_doc(extract_prompt, forecast_result_md, client)"
   ]
  },
  {
   "cell_type": "code",
   "execution_count": null,
   "metadata": {},
   "outputs": [],
   "source": [
    "\n",
    "df_md = pd.DataFrame([(f.financial_variable, f.financial_forecast) for f in asset_class_md.forecasts], \n",
    "                 columns=['Variable', 'Forecast'])\n",
    "df_docling = pd.DataFrame([(f.financial_variable, f.financial_forecast) for f in asset_class_docling.forecasts], \n",
    "                 columns=['Variable', 'Forecast'])"
   ]
  },
  {
   "cell_type": "markdown",
   "metadata": {},
   "source": [
    "We construct a DataFrame to compare the results from MarkItDown and Docling with an added \"true_value\" column containing the true values from the document, which we extracted manually from the chart. This enables us to calculate accuracy of the structured data extraction task in case."
   ]
  },
  {
   "cell_type": "code",
   "execution_count": 72,
   "metadata": {},
   "outputs": [
    {
     "data": {
      "text/html": [
       "<div>\n",
       "<style scoped>\n",
       "    .dataframe tbody tr th:only-of-type {\n",
       "        vertical-align: middle;\n",
       "    }\n",
       "\n",
       "    .dataframe tbody tr th {\n",
       "        vertical-align: top;\n",
       "    }\n",
       "\n",
       "    .dataframe thead th {\n",
       "        text-align: right;\n",
       "    }\n",
       "</style>\n",
       "<table border=\"1\" class=\"dataframe\">\n",
       "  <thead>\n",
       "    <tr style=\"text-align: right;\">\n",
       "      <th></th>\n",
       "      <th>variable</th>\n",
       "      <th>markitdown</th>\n",
       "      <th>docling</th>\n",
       "      <th>true_value</th>\n",
       "    </tr>\n",
       "  </thead>\n",
       "  <tbody>\n",
       "    <tr>\n",
       "      <th>0</th>\n",
       "      <td>Global Equities</td>\n",
       "      <td>1.0</td>\n",
       "      <td>1.0</td>\n",
       "      <td>1.0</td>\n",
       "    </tr>\n",
       "    <tr>\n",
       "      <th>1</th>\n",
       "      <td>U.S. Large Cap Growth</td>\n",
       "      <td>1.0</td>\n",
       "      <td>1.0</td>\n",
       "      <td>0.0</td>\n",
       "    </tr>\n",
       "    <tr>\n",
       "      <th>2</th>\n",
       "      <td>U.S. Large Cap Value</td>\n",
       "      <td>1.0</td>\n",
       "      <td>1.0</td>\n",
       "      <td>1.0</td>\n",
       "    </tr>\n",
       "    <tr>\n",
       "      <th>3</th>\n",
       "      <td>U.S. Small Cap Growth</td>\n",
       "      <td>1.0</td>\n",
       "      <td>1.0</td>\n",
       "      <td>1.0</td>\n",
       "    </tr>\n",
       "    <tr>\n",
       "      <th>4</th>\n",
       "      <td>U.S. Small Cap Value</td>\n",
       "      <td>1.0</td>\n",
       "      <td>1.0</td>\n",
       "      <td>1.0</td>\n",
       "    </tr>\n",
       "    <tr>\n",
       "      <th>5</th>\n",
       "      <td>International Developed</td>\n",
       "      <td>1.0</td>\n",
       "      <td>-1.0</td>\n",
       "      <td>-1.0</td>\n",
       "    </tr>\n",
       "    <tr>\n",
       "      <th>6</th>\n",
       "      <td>Emerging Markets</td>\n",
       "      <td>1.0</td>\n",
       "      <td>0.0</td>\n",
       "      <td>0.0</td>\n",
       "    </tr>\n",
       "    <tr>\n",
       "      <th>7</th>\n",
       "      <td>Global Fixed Income</td>\n",
       "      <td>-1.0</td>\n",
       "      <td>-1.0</td>\n",
       "      <td>-1.0</td>\n",
       "    </tr>\n",
       "    <tr>\n",
       "      <th>8</th>\n",
       "      <td>U.S. Governments</td>\n",
       "      <td>-1.0</td>\n",
       "      <td>1.0</td>\n",
       "      <td>1.0</td>\n",
       "    </tr>\n",
       "    <tr>\n",
       "      <th>9</th>\n",
       "      <td>U.S. Mortgages</td>\n",
       "      <td>-1.0</td>\n",
       "      <td>1.0</td>\n",
       "      <td>1.0</td>\n",
       "    </tr>\n",
       "    <tr>\n",
       "      <th>10</th>\n",
       "      <td>U.S. Corporates</td>\n",
       "      <td>-1.0</td>\n",
       "      <td>-1.0</td>\n",
       "      <td>-1.0</td>\n",
       "    </tr>\n",
       "    <tr>\n",
       "      <th>11</th>\n",
       "      <td>International Fixed Income</td>\n",
       "      <td>-1.0</td>\n",
       "      <td>0.0</td>\n",
       "      <td>0.0</td>\n",
       "    </tr>\n",
       "    <tr>\n",
       "      <th>12</th>\n",
       "      <td>High Yield</td>\n",
       "      <td>-1.0</td>\n",
       "      <td>-1.0</td>\n",
       "      <td>-1.0</td>\n",
       "    </tr>\n",
       "    <tr>\n",
       "      <th>13</th>\n",
       "      <td>U.S. Investment-grade</td>\n",
       "      <td>-1.0</td>\n",
       "      <td>0.0</td>\n",
       "      <td>0.0</td>\n",
       "    </tr>\n",
       "    <tr>\n",
       "      <th>14</th>\n",
       "      <td>Tax Exempt U.S. High Yield Tax Exempt</td>\n",
       "      <td>-1.0</td>\n",
       "      <td>-1.0</td>\n",
       "      <td>-1.0</td>\n",
       "    </tr>\n",
       "  </tbody>\n",
       "</table>\n",
       "</div>"
      ],
      "text/plain": [
       "                                 variable  markitdown  docling  true_value\n",
       "0                         Global Equities         1.0      1.0         1.0\n",
       "1                   U.S. Large Cap Growth         1.0      1.0         0.0\n",
       "2                    U.S. Large Cap Value         1.0      1.0         1.0\n",
       "3                   U.S. Small Cap Growth         1.0      1.0         1.0\n",
       "4                    U.S. Small Cap Value         1.0      1.0         1.0\n",
       "5                 International Developed         1.0     -1.0        -1.0\n",
       "6                        Emerging Markets         1.0      0.0         0.0\n",
       "7                     Global Fixed Income        -1.0     -1.0        -1.0\n",
       "8                        U.S. Governments        -1.0      1.0         1.0\n",
       "9                          U.S. Mortgages        -1.0      1.0         1.0\n",
       "10                        U.S. Corporates        -1.0     -1.0        -1.0\n",
       "11             International Fixed Income        -1.0      0.0         0.0\n",
       "12                             High Yield        -1.0     -1.0        -1.0\n",
       "13                  U.S. Investment-grade        -1.0      0.0         0.0\n",
       "14  Tax Exempt U.S. High Yield Tax Exempt        -1.0     -1.0        -1.0"
      ]
     },
     "metadata": {},
     "output_type": "display_data"
    }
   ],
   "source": [
    "# Create DataFrame with specified columns\n",
    "df_comparison = pd.DataFrame({\n",
    "    'variable': df_docling['Variable'].iloc[:-1],\n",
    "    'markitdown': df_md['Forecast'],\n",
    "    'docling': df_docling['Forecast'].iloc[:-1],  # Drop last row\n",
    "    'true_value': [1.0, 0.0, 1.0, 1.0, 1.0, -1.0, 0.0, -1.0, 1.0, 1.0, -1.0, 0.0, -1.0, 0.0, -1.0]\n",
    "})\n",
    "\n",
    "display(df_comparison)\n"
   ]
  },
  {
   "cell_type": "code",
   "execution_count": 73,
   "metadata": {},
   "outputs": [
    {
     "name": "stdout",
     "output_type": "stream",
     "text": [
      "Markitdown accuracy: 53.33%\n",
      "Docling accuracy: 93.33%\n"
     ]
    }
   ],
   "source": [
    "# Calculate accuracy for markitdown and docling\n",
    "markitdown_accuracy = (df_comparison['markitdown'] == df_comparison['true_value']).mean()\n",
    "docling_accuracy = (df_comparison['docling'] == df_comparison['true_value']).mean()\n",
    "\n",
    "print(f\"Markitdown accuracy: {markitdown_accuracy:.2%}\")\n",
    "print(f\"Docling accuracy: {docling_accuracy:.2%}\") \n"
   ]
  },
  {
   "cell_type": "markdown",
   "metadata": {},
   "source": [
    "We observe that Docling performs significantly better at 93.33% accuracy missing only one value. MarkItDown achieves 53.33% accuracy struggling with nuanced asset class weightings. In this case, Docling's structured parsed output did help the LLM to extract the information more accurately compared to MarkItDown's unstructured output. Hence, in this case, the strategy used to parse the data did impact the LLM's ability to extract structured information. Having said that, it is important to mention that a more robust analysis would run data extraction on a larger sample data a number of times across repeated runs to estimate confidence intervals since results are non-deterministic."
   ]
  },
  {
   "cell_type": "markdown",
   "metadata": {},
   "source": [
    "What if we wanted to systematically extract all tables from the document? We can use Docling to do that by simply accessing the `tables` attribute of the `DocumentConverter` object.\n",
    "\n",
    "By doing that, we observe that Docling successfully extracted the seven tables from the document exporting tables from top down and left to right in order of appearance in the document.\n",
    "Below, we display the first two and the last tables. We can see the first table successfully extracted for Equities forecasts, the second one for Fixed Income forecasts as well as the last table, which contains CIO Equity Sector Views.\n"
   ]
  },
  {
   "cell_type": "code",
   "execution_count": 47,
   "metadata": {},
   "outputs": [],
   "source": [
    "import time\n",
    "from pathlib import Path\n",
    "import pandas as pd\n",
    "from docling.document_converter import DocumentConverter"
   ]
  },
  {
   "cell_type": "code",
   "execution_count": 50,
   "metadata": {},
   "outputs": [],
   "source": [
    "def convert_and_export_tables(file_path: Path) -> list[pd.DataFrame]:\n",
    "    \"\"\"\n",
    "    Convert document and export tables to DataFrames.\n",
    "    \n",
    "    Args:\n",
    "        file_path: Path to input document\n",
    "        \n",
    "    Returns:\n",
    "        List of pandas DataFrames containing the tables\n",
    "    \"\"\"\n",
    "    doc_converter = DocumentConverter()\n",
    "    start_time = time.time()\n",
    "    \n",
    "    conv_res = doc_converter.convert(file_path)\n",
    "    \n",
    "    tables = []\n",
    "    # Export tables\n",
    "    for table in conv_res.document.tables:\n",
    "        table_df: pd.DataFrame = table.export_to_dataframe()\n",
    "        tables.append(table_df)\n",
    "\n",
    "    end_time = time.time() - start_time\n",
    "    print(f\"Document converted in {end_time:.2f} seconds.\")\n",
    "    \n",
    "    return tables\n"
   ]
  },
  {
   "cell_type": "code",
   "execution_count": null,
   "metadata": {},
   "outputs": [],
   "source": [
    "# Convert and export tables\n",
    "tables = convert_and_export_tables(Path(FORECAST_FILE_PATH))"
   ]
  },
  {
   "cell_type": "code",
   "execution_count": 100,
   "metadata": {},
   "outputs": [
    {
     "data": {
      "text/plain": [
       "7"
      ]
     },
     "execution_count": 100,
     "metadata": {},
     "output_type": "execute_result"
    }
   ],
   "source": [
    "len(tables)"
   ]
  },
  {
   "cell_type": "code",
   "execution_count": 59,
   "metadata": {},
   "outputs": [
    {
     "data": {
      "text/html": [
       "<div>\n",
       "<style scoped>\n",
       "    .dataframe tbody tr th:only-of-type {\n",
       "        vertical-align: middle;\n",
       "    }\n",
       "\n",
       "    .dataframe tbody tr th {\n",
       "        vertical-align: top;\n",
       "    }\n",
       "\n",
       "    .dataframe thead th {\n",
       "        text-align: right;\n",
       "    }\n",
       "</style>\n",
       "<table border=\"1\" class=\"dataframe\">\n",
       "  <thead>\n",
       "    <tr style=\"text-align: right;\">\n",
       "      <th></th>\n",
       "      <th></th>\n",
       "      <th>Total Return in USD (%).Current</th>\n",
       "      <th>Total Return in USD (%).WTD</th>\n",
       "      <th>Total Return in USD (%).MTD</th>\n",
       "      <th>Total Return in USD (%).YTD</th>\n",
       "    </tr>\n",
       "  </thead>\n",
       "  <tbody>\n",
       "    <tr>\n",
       "      <th>0</th>\n",
       "      <td>DJIA</td>\n",
       "      <td>43,828.06</td>\n",
       "      <td>-1.8</td>\n",
       "      <td>-2.3</td>\n",
       "      <td>18.4</td>\n",
       "    </tr>\n",
       "    <tr>\n",
       "      <th>1</th>\n",
       "      <td>NASDAQ</td>\n",
       "      <td>19,926.72</td>\n",
       "      <td>0.4</td>\n",
       "      <td>3.7</td>\n",
       "      <td>33.7</td>\n",
       "    </tr>\n",
       "    <tr>\n",
       "      <th>2</th>\n",
       "      <td>S&amp;P 500</td>\n",
       "      <td>6,051.09</td>\n",
       "      <td>-0.6</td>\n",
       "      <td>0.4</td>\n",
       "      <td>28.6</td>\n",
       "    </tr>\n",
       "    <tr>\n",
       "      <th>3</th>\n",
       "      <td>S&amp;P 400 Mid Cap</td>\n",
       "      <td>3,277.20</td>\n",
       "      <td>-1.6</td>\n",
       "      <td>-2.6</td>\n",
       "      <td>19.5</td>\n",
       "    </tr>\n",
       "    <tr>\n",
       "      <th>4</th>\n",
       "      <td>Russell 2000</td>\n",
       "      <td>2,346.90</td>\n",
       "      <td>-2.5</td>\n",
       "      <td>-3.5</td>\n",
       "      <td>17.3</td>\n",
       "    </tr>\n",
       "    <tr>\n",
       "      <th>5</th>\n",
       "      <td>MSCI World</td>\n",
       "      <td>3,817.24</td>\n",
       "      <td>-1.0</td>\n",
       "      <td>0.2</td>\n",
       "      <td>22.1</td>\n",
       "    </tr>\n",
       "    <tr>\n",
       "      <th>6</th>\n",
       "      <td>MSCI EAFE</td>\n",
       "      <td>2,319.05</td>\n",
       "      <td>-1.5</td>\n",
       "      <td>0.2</td>\n",
       "      <td>6.4</td>\n",
       "    </tr>\n",
       "    <tr>\n",
       "      <th>7</th>\n",
       "      <td>MSCI Emerging Markets</td>\n",
       "      <td>1,107.01</td>\n",
       "      <td>0.3</td>\n",
       "      <td>2.7</td>\n",
       "      <td>10.6</td>\n",
       "    </tr>\n",
       "  </tbody>\n",
       "</table>\n",
       "</div>"
      ],
      "text/plain": [
       "                         Total Return in USD (%).Current  \\\n",
       "0                   DJIA                       43,828.06   \n",
       "1                 NASDAQ                       19,926.72   \n",
       "2                S&P 500                        6,051.09   \n",
       "3        S&P 400 Mid Cap                        3,277.20   \n",
       "4           Russell 2000                        2,346.90   \n",
       "5             MSCI World                        3,817.24   \n",
       "6              MSCI EAFE                        2,319.05   \n",
       "7  MSCI Emerging Markets                        1,107.01   \n",
       "\n",
       "  Total Return in USD (%).WTD Total Return in USD (%).MTD  \\\n",
       "0                        -1.8                        -2.3   \n",
       "1                         0.4                         3.7   \n",
       "2                        -0.6                         0.4   \n",
       "3                        -1.6                        -2.6   \n",
       "4                        -2.5                        -3.5   \n",
       "5                        -1.0                         0.2   \n",
       "6                        -1.5                         0.2   \n",
       "7                         0.3                         2.7   \n",
       "\n",
       "  Total Return in USD (%).YTD  \n",
       "0                        18.4  \n",
       "1                        33.7  \n",
       "2                        28.6  \n",
       "3                        19.5  \n",
       "4                        17.3  \n",
       "5                        22.1  \n",
       "6                         6.4  \n",
       "7                        10.6  "
      ]
     },
     "metadata": {},
     "output_type": "display_data"
    }
   ],
   "source": [
    "display(tables[0])"
   ]
  },
  {
   "cell_type": "code",
   "execution_count": 102,
   "metadata": {},
   "outputs": [
    {
     "data": {
      "text/html": [
       "<div>\n",
       "<style scoped>\n",
       "    .dataframe tbody tr th:only-of-type {\n",
       "        vertical-align: middle;\n",
       "    }\n",
       "\n",
       "    .dataframe tbody tr th {\n",
       "        vertical-align: top;\n",
       "    }\n",
       "\n",
       "    .dataframe thead th {\n",
       "        text-align: right;\n",
       "    }\n",
       "</style>\n",
       "<table border=\"1\" class=\"dataframe\">\n",
       "  <thead>\n",
       "    <tr style=\"text-align: right;\">\n",
       "      <th></th>\n",
       "      <th></th>\n",
       "      <th>Total Return in USD (%).Current</th>\n",
       "      <th>Total Return in USD (%).WTD</th>\n",
       "      <th>Total Return in USD (%).MTD</th>\n",
       "      <th>Total Return in USD (%).YTD</th>\n",
       "    </tr>\n",
       "  </thead>\n",
       "  <tbody>\n",
       "    <tr>\n",
       "      <th>0</th>\n",
       "      <td>Corporate &amp; Government</td>\n",
       "      <td>4.66</td>\n",
       "      <td>-1.34</td>\n",
       "      <td>-0.92</td>\n",
       "      <td>1.94</td>\n",
       "    </tr>\n",
       "    <tr>\n",
       "      <th>1</th>\n",
       "      <td>Agencies</td>\n",
       "      <td>4.54</td>\n",
       "      <td>-0.58</td>\n",
       "      <td>-0.31</td>\n",
       "      <td>3.35</td>\n",
       "    </tr>\n",
       "    <tr>\n",
       "      <th>2</th>\n",
       "      <td>Municipals</td>\n",
       "      <td>3.55</td>\n",
       "      <td>-0.87</td>\n",
       "      <td>-0.54</td>\n",
       "      <td>1.99</td>\n",
       "    </tr>\n",
       "    <tr>\n",
       "      <th>3</th>\n",
       "      <td>U.S. Investment Grade Credit</td>\n",
       "      <td>4.79</td>\n",
       "      <td>-1.38</td>\n",
       "      <td>-0.93</td>\n",
       "      <td>1.97</td>\n",
       "    </tr>\n",
       "    <tr>\n",
       "      <th>4</th>\n",
       "      <td>International</td>\n",
       "      <td>5.17</td>\n",
       "      <td>-1.40</td>\n",
       "      <td>-0.90</td>\n",
       "      <td>3.20</td>\n",
       "    </tr>\n",
       "    <tr>\n",
       "      <th>5</th>\n",
       "      <td>High Yield</td>\n",
       "      <td>7.19</td>\n",
       "      <td>-0.22</td>\n",
       "      <td>0.20</td>\n",
       "      <td>8.87</td>\n",
       "    </tr>\n",
       "    <tr>\n",
       "      <th>6</th>\n",
       "      <td>90 Day Yield</td>\n",
       "      <td>4.32</td>\n",
       "      <td>4.39</td>\n",
       "      <td>4.49</td>\n",
       "      <td>5.33</td>\n",
       "    </tr>\n",
       "    <tr>\n",
       "      <th>7</th>\n",
       "      <td>2 Year Yield</td>\n",
       "      <td>4.24</td>\n",
       "      <td>4.10</td>\n",
       "      <td>4.15</td>\n",
       "      <td>4.25</td>\n",
       "    </tr>\n",
       "    <tr>\n",
       "      <th>8</th>\n",
       "      <td>10 Year Yield</td>\n",
       "      <td>4.40</td>\n",
       "      <td>4.15</td>\n",
       "      <td>4.17</td>\n",
       "      <td>3.88</td>\n",
       "    </tr>\n",
       "    <tr>\n",
       "      <th>9</th>\n",
       "      <td>30 Year Yield</td>\n",
       "      <td>4.60</td>\n",
       "      <td>4.34</td>\n",
       "      <td>4.36</td>\n",
       "      <td>4.03</td>\n",
       "    </tr>\n",
       "  </tbody>\n",
       "</table>\n",
       "</div>"
      ],
      "text/plain": [
       "                                Total Return in USD (%).Current  \\\n",
       "0        Corporate & Government                            4.66   \n",
       "1                      Agencies                            4.54   \n",
       "2                    Municipals                            3.55   \n",
       "3  U.S. Investment Grade Credit                            4.79   \n",
       "4                 International                            5.17   \n",
       "5                    High Yield                            7.19   \n",
       "6                  90 Day Yield                            4.32   \n",
       "7                  2 Year Yield                            4.24   \n",
       "8                 10 Year Yield                            4.40   \n",
       "9                 30 Year Yield                            4.60   \n",
       "\n",
       "  Total Return in USD (%).WTD Total Return in USD (%).MTD  \\\n",
       "0                       -1.34                       -0.92   \n",
       "1                       -0.58                       -0.31   \n",
       "2                       -0.87                       -0.54   \n",
       "3                       -1.38                       -0.93   \n",
       "4                       -1.40                       -0.90   \n",
       "5                       -0.22                        0.20   \n",
       "6                        4.39                        4.49   \n",
       "7                        4.10                        4.15   \n",
       "8                        4.15                        4.17   \n",
       "9                        4.34                        4.36   \n",
       "\n",
       "  Total Return in USD (%).YTD  \n",
       "0                        1.94  \n",
       "1                        3.35  \n",
       "2                        1.99  \n",
       "3                        1.97  \n",
       "4                        3.20  \n",
       "5                        8.87  \n",
       "6                        5.33  \n",
       "7                        4.25  \n",
       "8                        3.88  \n",
       "9                        4.03  "
      ]
     },
     "metadata": {},
     "output_type": "display_data"
    }
   ],
   "source": [
    "display(tables[1])"
   ]
  },
  {
   "cell_type": "code",
   "execution_count": 61,
   "metadata": {},
   "outputs": [
    {
     "data": {
      "text/html": [
       "<div>\n",
       "<style scoped>\n",
       "    .dataframe tbody tr th:only-of-type {\n",
       "        vertical-align: middle;\n",
       "    }\n",
       "\n",
       "    .dataframe tbody tr th {\n",
       "        vertical-align: top;\n",
       "    }\n",
       "\n",
       "    .dataframe thead th {\n",
       "        text-align: right;\n",
       "    }\n",
       "</style>\n",
       "<table border=\"1\" class=\"dataframe\">\n",
       "  <thead>\n",
       "    <tr style=\"text-align: right;\">\n",
       "      <th></th>\n",
       "      <th>Sector</th>\n",
       "      <th>CIO View.</th>\n",
       "      <th>CIO View.Underweight</th>\n",
       "      <th>CIO View.Neutral</th>\n",
       "      <th>CIO View.</th>\n",
       "      <th>CIO View.Overweight</th>\n",
       "    </tr>\n",
       "  </thead>\n",
       "  <tbody>\n",
       "    <tr>\n",
       "      <th>0</th>\n",
       "      <td>Utilities</td>\n",
       "      <td>slight over weight green   </td>\n",
       "      <td></td>\n",
       "      <td></td>\n",
       "      <td></td>\n",
       "      <td></td>\n",
       "    </tr>\n",
       "    <tr>\n",
       "      <th>1</th>\n",
       "      <td>Financials</td>\n",
       "      <td>slight over weight green   </td>\n",
       "      <td></td>\n",
       "      <td></td>\n",
       "      <td></td>\n",
       "      <td></td>\n",
       "    </tr>\n",
       "    <tr>\n",
       "      <th>2</th>\n",
       "      <td>Healthcare</td>\n",
       "      <td>slight over weight green   </td>\n",
       "      <td></td>\n",
       "      <td></td>\n",
       "      <td></td>\n",
       "      <td></td>\n",
       "    </tr>\n",
       "    <tr>\n",
       "      <th>3</th>\n",
       "      <td>Consumer  Discretionary</td>\n",
       "      <td>Slight over weight green  </td>\n",
       "      <td></td>\n",
       "      <td></td>\n",
       "      <td></td>\n",
       "      <td></td>\n",
       "    </tr>\n",
       "    <tr>\n",
       "      <th>4</th>\n",
       "      <td>Information  Technology</td>\n",
       "      <td>Neutral yellow  </td>\n",
       "      <td></td>\n",
       "      <td></td>\n",
       "      <td></td>\n",
       "      <td></td>\n",
       "    </tr>\n",
       "    <tr>\n",
       "      <th>5</th>\n",
       "      <td>Communication  Services</td>\n",
       "      <td>Neutral yellow  </td>\n",
       "      <td></td>\n",
       "      <td></td>\n",
       "      <td></td>\n",
       "      <td></td>\n",
       "    </tr>\n",
       "    <tr>\n",
       "      <th>6</th>\n",
       "      <td>Industrials</td>\n",
       "      <td>Neutral yellow  </td>\n",
       "      <td></td>\n",
       "      <td></td>\n",
       "      <td></td>\n",
       "      <td></td>\n",
       "    </tr>\n",
       "    <tr>\n",
       "      <th>7</th>\n",
       "      <td>Real Estate</td>\n",
       "      <td>Neutral yellow  </td>\n",
       "      <td></td>\n",
       "      <td></td>\n",
       "      <td></td>\n",
       "      <td></td>\n",
       "    </tr>\n",
       "    <tr>\n",
       "      <th>8</th>\n",
       "      <td>Energy</td>\n",
       "      <td>slight underweight orange  </td>\n",
       "      <td></td>\n",
       "      <td></td>\n",
       "      <td></td>\n",
       "      <td></td>\n",
       "    </tr>\n",
       "    <tr>\n",
       "      <th>9</th>\n",
       "      <td>Materials</td>\n",
       "      <td>slight underweight orange  </td>\n",
       "      <td></td>\n",
       "      <td></td>\n",
       "      <td></td>\n",
       "      <td></td>\n",
       "    </tr>\n",
       "    <tr>\n",
       "      <th>10</th>\n",
       "      <td>Consumer  Staples</td>\n",
       "      <td>underweight red</td>\n",
       "      <td></td>\n",
       "      <td></td>\n",
       "      <td></td>\n",
       "      <td></td>\n",
       "    </tr>\n",
       "  </tbody>\n",
       "</table>\n",
       "</div>"
      ],
      "text/plain": [
       "                     Sector                     CIO View.  \\\n",
       "0                 Utilities  slight over weight green      \n",
       "1                Financials  slight over weight green      \n",
       "2                Healthcare  slight over weight green      \n",
       "3   Consumer  Discretionary   Slight over weight green     \n",
       "4   Information  Technology             Neutral yellow     \n",
       "5   Communication  Services             Neutral yellow     \n",
       "6               Industrials             Neutral yellow     \n",
       "7               Real Estate             Neutral yellow     \n",
       "8                    Energy  slight underweight orange     \n",
       "9                 Materials  slight underweight orange     \n",
       "10        Consumer  Staples               underweight red   \n",
       "\n",
       "   CIO View.Underweight CIO View.Neutral CIO View. CIO View.Overweight  \n",
       "0                                                                    \n",
       "1                                                                    \n",
       "2                                                                    \n",
       "3                                                                    \n",
       "4                                                                    \n",
       "5                                                                    \n",
       "6                                                                    \n",
       "7                                                                    \n",
       "8                                                                    \n",
       "9                                                                    \n",
       "10                                                                  "
      ]
     },
     "metadata": {},
     "output_type": "display_data"
    }
   ],
   "source": [
    "display(tables[6])"
   ]
  },
  {
   "cell_type": "markdown",
   "metadata": {},
   "source": [
    "Coming back to MarkItDown, one interesting feature to explore is the ability to extract information from images by passing an image capable LLM model to its constructor."
   ]
  },
  {
   "cell_type": "code",
   "execution_count": 55,
   "metadata": {},
   "outputs": [],
   "source": [
    "md_llm = MarkItDown(llm_client=client, llm_model=\"gpt-4o-mini\")"
   ]
  },
  {
   "cell_type": "code",
   "execution_count": null,
   "metadata": {},
   "outputs": [],
   "source": [
    "result = md_llm.convert(\"../_static/input/forecast.png\")"
   ]
  },
  {
   "cell_type": "markdown",
   "metadata": {},
   "source": [
    "Here's the description we obtain from the image of our input document."
   ]
  },
  {
   "cell_type": "code",
   "execution_count": 64,
   "metadata": {},
   "outputs": [
    {
     "data": {
      "text/markdown": [
       "\n",
       "# Description:\n",
       "**Markets in Review: Economic Forecasts and Asset Class Weightings (as of 12/13/2024)**\n",
       "\n",
       "This detailed market overview presents key performance metrics and economic forecasts as of December 13, 2024.\n",
       "\n",
       "**Equities Overview:**\n",
       "- **Total Returns:** Highlights returns for major indices such as the DJIA (18.4% YTD), NASDAQ (33.7% YTD), and S&P 500 (28.6% YTD), showcasing strong performance across the board.\n",
       "- **Forecasts:** Economic indicators reveal a projected real global GDP growth of 3.1%, with inflation rates expected to stabilize around 2.2% in 2025. Unemployment rates are anticipated to remain low at 4.4%.\n",
       "\n",
       "**Fixed Income:**\n",
       "- Focuses on various segments, including Corporate & Government bonds, which offer an annualized return of 4.66% and indicate shifting trends in interest rates over 2-Year (4.25%) and 10-Year (4.03%) bonds.\n",
       "\n",
       "**Commodities & Currencies:**\n",
       "- Commodities such as crude oil and gold show varied performance, with oil increasing by 4.8% and gold prices sitting at $2,648.23 per ounce.\n",
       "- Currency metrics highlight the Euro and USD trends over the past year.\n",
       "\n",
       "**S&P Sector Returns:**\n",
       "- A quick reference for sector performance indicates a significant 2.5% return in Communication Services, while other sectors like Consumer Staples and Materials display minor fluctuations.\n",
       "\n",
       "**CIO Asset Class Weightings:**\n",
       "- Emphasizes strategic asset allocation recommendations which are crucial for an investor's portfolio. Underweight positions in U.S. Small Cap Growth and International Developed contrast with overweight positions in certain sectors such as Utilities and Financials, signaling tactical shifts based on ongoing economic assessments.\n",
       "\n",
       "**Note:** This summary is sourced from BofA Global Research and aims to provide a comprehensive view of current market conditions and forecasts to assist investors in making informed decisions.\n"
      ],
      "text/plain": [
       "<IPython.core.display.Markdown object>"
      ]
     },
     "metadata": {},
     "output_type": "display_data"
    }
   ],
   "source": [
    "display(Markdown(result.text_content))"
   ]
  },
  {
   "cell_type": "markdown",
   "metadata": {},
   "source": [
    "---\n",
    "\n",
    "Overall, the description is somewhat accurate but contains a few inaccuracies including:\n",
    "\n",
    "- For the sector weightings, the description states there are \"underweight positions in U.S. Small Cap Growth\" but looking at the Asset Class Weightings chart, U.S. Small Cap Growth actually shows an overweight position (green circle).\n",
    "- The description mentions \"overweight positions in certain sectors such as Utilities and Financials\" but looking at the CIO Equity Sector Views, both these sectors show neutral positions, not overweight positions.\n",
    "- For fixed income, the description cites a \"10-Year (4.03%)\" yield, but the image shows the 30-Year Yield at 4.03%, while the 10-Year Yield is actually 4.40%.\n",
    "\n",
    "Arguably, the description's inaccuracies could be a consequence of the underlying LLM model's inability to process the image.\n",
    "\n",
    "We have covered MarkitDown and Docling as examples of open source tools that can help developers parse input data into a suitable format to LLMs. Other relevant open source tools worth mentioning include:\n",
    "- Unstructured {cite}`unstructured2024github`: A Python library for unstructured data extraction.\n",
    "- FireCrawl {cite}`mendable2024firecrawl`: A Fast and Efficient Web Crawler for LLM Training Data.\n",
    "- LlamaParse {cite}`llamaparse2024github`: Llamaindex's data parsing solution.\n",
    "\n",
    "The choice of tool depends on the specific requirements of the application and the nature of the input data. This choice should be taken as a critical decision of any data intensive LLM-based application and deserves dedicated research and evidence-based experimentation early-on in the development cycle.\n"
   ]
  },
  {
   "cell_type": "markdown",
   "metadata": {},
   "source": [
    "## Retrieval-Augmented Generation\n",
    "\n",
    "What happens if we asked ChatGPT who's the author of the book \"Taming LLMs\"?\n",
    "\n",
    "\n"
   ]
  },
  {
   "cell_type": "code",
   "execution_count": 1,
   "metadata": {},
   "outputs": [],
   "source": [
    "from dotenv import load_dotenv\n",
    "import os\n",
    "\n",
    "# Load environment variables from .env file\n",
    "load_dotenv()\n",
    "\n",
    "from openai import OpenAI\n",
    "client = OpenAI()\n",
    "model = \"gpt-4o-mini\""
   ]
  },
  {
   "cell_type": "code",
   "execution_count": 2,
   "metadata": {},
   "outputs": [],
   "source": [
    "question = \"Who's the Author of the Book Taming LLMs?\""
   ]
  },
  {
   "cell_type": "code",
   "execution_count": 3,
   "metadata": {},
   "outputs": [
    {
     "name": "stdout",
     "output_type": "stream",
     "text": [
      "The book \"Taming LLMs\" is authored by *G. Arulkumaran, H. M. B. P. D. Karthikeyan, and I. A. M. Almasri.* If you need more information about the book or its contents, feel free to ask!\n"
     ]
    }
   ],
   "source": [
    "response = client.chat.completions.parse(\n",
    "    model=\"gpt-4o-mini\",\n",
    "    messages=[\n",
    "        {\"role\": \"user\", \"content\": question}\n",
    "    ]\n",
    ")\n",
    "response.choices[0].message.content"
   ]
  },
  {
   "cell_type": "markdown",
   "metadata": {},
   "source": [
    "Turns out ChatGPT hallucinates. A quick web search on the before mentioned authors yields no results. In fact, those authors names are made up. And of course the correct answer would have been yours truly, \"Tharsis Souza\".\n",
    "\n",
    "LLMs only have access to the information they have been trained on, which of course has been fixed at a point in time. Hence, LLMs operate with stale data. The problem gets exacerbated by the fact that LLMs are trained to provide an answer even if the answer is unknown by them, hence leading to hallucinations. \n",
    "\n",
    "One solution to this problem is to use a retrieval system to fetch information from a knowledge base to provide recent and relevant context to user queries using so-called Retrieval Augmented Generation (RAG) system.\n",
    "\n",
    "RAG utilizes a retrieval system to fetch external knowledge and augment LLM's context. It is a useful technique for building LLM applications that require domain-specific information or knowledge-intensive tasks {cite}`lewis2021retrievalaugmentedgenerationknowledgeintensivenlp`. It has also proved effective in mitigating LLMs hallucinations {cite}`10.1145/3589334.3645481, ni-etal-2024-llms`."
   ]
  },
  {
   "cell_type": "markdown",
   "metadata": {},
   "source": [
    "In the above example, a RAG would help with hallucinations by grounding the LLM's response to information provided in the knowledge base. Additional common use cases of RAG systems include:\n",
    "\n",
    "1. **Enterprise Knowledge Management**: RAG enables organizations to synthesize answers from diverse internal data sources like documents, databases, and communication channels. This creates a unified knowledge interface that can accurately answer questions using the organization's own data.\n",
    "2. **Document Processing and Analysis**: RAG excels at extracting and analyzing information from complex documents like financial reports, presentations, and spreadsheets. The system can enable LLMs to understand context and relationships across different document types and formats.\n",
    "3. **Intelligent Customer Support**: By combining knowledge bases with conversational abilities, RAG powers chatbots and support systems that can maintain context across chat history, provide accurate responses, and handle complex customer queries while reducing hallucinations.\n",
    "4. **Domain-Specific Applications**: RAG allows LLMs to be equipped with specialized knowledge in fields like medicine, law, or engineering by retrieving information from domain-specific literature, regulations, and technical documentation. This enables accurate responses aligned with professional standards and current best practices.\n",
    "5. **Code Documentation and Technical Support**: RAG can help developers by retrieving relevant code examples, API documentation, and best practices from repositories and documentation, which often suffer updates frequently, enabling more accurate and contextual coding assistance.\n",
    "\n",
    "If LLMs alone work on stale, general-purpose data with the added challenge of being prone to hallucinations, RAG systems serve as an added capability enabling LLMs to work on recent, domain-specific knowledge increasing the likelihood of LLMs to provide responses that are factual and relevant to user's queries.\n"
   ]
  },
  {
   "cell_type": "markdown",
   "metadata": {},
   "source": [
    "### RAG Pipeline\n",
    "\n",
    "RAG architectures vary but they all share the same goal: To retrieve relevant information from a knowledge base to maximize the LLM's ability to effectively and accurately respond to prompts, particularly when the answer requires out-of-training data.\n",
    "\n",
    "We will introduce key components of a RAG system one by one leading to a full canonical RAG pipeline at the end that ultimately will be used to answer our original question \"Who's the author of the book Taming LLMs?\", accurately.\n",
    "\n",
    "The following basic components will be introduced (see {numref}`rag_pipeline` for a visual representation):\n",
    "- Vector Database\n",
    "  - Embeddings\n",
    "  - Indexing\n",
    "- Retrieval System including re-ranking\n",
    "- LLM Augmented Generation via in-context learning\n",
    "\n",
    "Data extraction, parsing and chunking are also part of a canonical pipeline as we prepare the knowledge base. Those are concepts we explored in detail in Sections {ref}`parsing` and {ref}`chunking`, hence we will be succinct here. We will start by preparing the knowledge base.\n",
    "\n",
    "```{figure} ../_static/input/rag.svg\n",
    "---\n",
    "name: rag_pipeline\n",
    "alt: RAG Pipeline\n",
    "scale: 99%\n",
    "align: center\n",
    "---\n",
    "Simplified RAG Pipeline\n",
    "```\n"
   ]
  },
  {
   "cell_type": "markdown",
   "metadata": {},
   "source": [
    "#### Preparing the Knowledge Base\n",
    "\n",
    "Every RAG system requires a knowledge base. In our case, the knowledge base is a set of documents that we equip the LLM with to answer our authorship question.\n",
    "\n",
    "Hence, we will compose our knowledge base by adding the web version of (some of the chapters of) the book \"Taming LLMs\", namely:\n",
    "- Introduction\n",
    "- Structured Output\n",
    "- Input (this very chapter)\n"
   ]
  },
  {
   "cell_type": "code",
   "execution_count": null,
   "metadata": {},
   "outputs": [],
   "source": [
    "book_url = \"https://www.tamingllms.com/\"\n",
    "chapters = [\"markdown/intro.html\",\n",
    "            \"notebooks/structured_output.html\",\n",
    "            \"notebooks/input.html\"]\n",
    "\n",
    "chapter_urls = [f\"{book_url}/{chapter}\" for chapter in chapters]\n",
    "chapter_ids = [chapter.split(\"/\")[-1].replace(\".html\", \"\") for chapter in chapters]"
   ]
  },
  {
   "cell_type": "markdown",
   "metadata": {},
   "source": [
    "We use `Docling` to download the chapters from the web and parse them as markdown files."
   ]
  },
  {
   "cell_type": "code",
   "execution_count": null,
   "metadata": {},
   "outputs": [],
   "source": [
    "chapters = [converter.convert(chapter_url).document.export_to_markdown() for chapter_url in chapter_urls]"
   ]
  },
  {
   "cell_type": "markdown",
   "metadata": {},
   "source": [
    "Now we are ready to store the chapters in a vector database to enable the construction of a retrieval system."
   ]
  },
  {
   "cell_type": "markdown",
   "metadata": {},
   "source": [
    "#### Vector Database\n",
    "\n",
    "Vector databases are specialized databases designed to store and retrieve high-dimensional vectors, which are mathematical representations of data like text, images, or audio. These databases are optimized for similarity search operations, making them ideal for embeddings-based retrieval systems.\n",
    "\n",
    "A typical pipeline involving a vector database includes the following:\n",
    "\n",
    "1. Input data is converted into \"documents\" forming a collection representing our knowledge base\n",
    "2. Each document is converted into an embedding which are stored in the vector database\n",
    "3. Embeddings are indexed in the vector database for efficient similarity search\n",
    "4. The vector database is queried to retrieve the most relevant documents\n",
    "5. The retrieved documents are used to answer questions\n",
    "\n",
    "Vector databases are not a mandatory component of RAG systems. In fact, we can use a simple list of strings to store the chapters (or their chunks) and then use the LLM to answer questions about the document. However, vector databases are useful for RAG applications as they enable:\n",
    "- Fast similarity search for finding relevant context\n",
    "- Efficient storage of document embeddings\n",
    "- Scalable retrieval for large document collections\n",
    "- Flexible querying with metadata filters\n",
    "\n",
    "In that way, RAG applications can be seen as a retrieval system that uses a vector database to store and retrieve embeddings of documents, which in turn are used to augment LLMs with contextually relevant information as we will see in the next sections.\n",
    "\n",
    "Here, we will use ChromaDB {cite}`chromadb2024docs` as an example of an open source vector database but key features and concepts we cover are applicable to other vector databases, in general.\n",
    "\n",
    "ChromaDB is a popular open-source vector database that offers:\n",
    "- Efficient storage and retrieval of embeddings\n",
    "- Support for metadata and filtering\n",
    "- Easy integration with Python applications\n",
    "- In-memory and persistent storage options\n",
    "- Support for multiple distance metrics\n",
    "\n",
    "Other notable vector databases include Weaviate, FAISS, and Milvus."
   ]
  },
  {
   "cell_type": "markdown",
   "metadata": {},
   "source": [
    "In ChromaDB, we can create a vector database client as follows."
   ]
  },
  {
   "cell_type": "code",
   "execution_count": null,
   "metadata": {},
   "outputs": [],
   "source": [
    "import chromadb\n",
    "chroma_client = chromadb.Client()"
   ]
  },
  {
   "cell_type": "markdown",
   "metadata": {},
   "source": [
    "This will create a vector database in memory. We can also create a persistent vector database by specifying a path to a directory or alternatively by using a cloud-based vector database service like AWS, Azure or GCP. We will use a vector database in memory for this example.\n",
    "\n",
    "Next, we create a collection to store the embeddings of the chapters. And add our chapters as documents to the collection as follows."
   ]
  },
  {
   "cell_type": "code",
   "execution_count": null,
   "metadata": {},
   "outputs": [],
   "source": [
    "collection = chroma_client.create_collection(name=\"taming_llms\")\n",
    "\n",
    "collection.add(\n",
    "    documents=chapters,\n",
    "    ids=chapter_ids\n",
    ")"
   ]
  },
  {
   "cell_type": "markdown",
   "metadata": {},
   "source": [
    "We are ready to query the collection. We write a simple function that takes the collection, input query and number of retrieved results as argument and returns the retrieved documents."
   ]
  },
  {
   "cell_type": "code",
   "execution_count": null,
   "metadata": {},
   "outputs": [],
   "source": [
    "def query_collection(collection, query_text, n_results=3):\n",
    "    results = collection.query(\n",
    "        query_texts=[query_text],\n",
    "        n_results=n_results\n",
    "    )\n",
    "    return results"
   ]
  },
  {
   "cell_type": "markdown",
   "metadata": {},
   "source": [
    "We write a simple query, enquiring the purpose of the book."
   ]
  },
  {
   "cell_type": "code",
   "execution_count": null,
   "metadata": {},
   "outputs": [],
   "source": [
    "q = \"What is the purpose of this book?\"\n",
    "res = query_collection(collection, q)\n",
    "res.get(\"ids\")"
   ]
  },
  {
   "cell_type": "code",
   "execution_count": null,
   "metadata": {},
   "outputs": [],
   "source": [
    "print([['intro', 'input', 'structured_output']])"
   ]
  },
  {
   "cell_type": "markdown",
   "metadata": {},
   "source": [
    "As response, we obtain an object that contains several attributes including:\n",
    "- `documents`: The actual documents retrieved from the collection, i.e. the chapters \n",
    "- `ids`: The ids of the documents retrieved from the collection\n",
    "- `distances`: The distances of the documents to the query vector\n",
    "\n",
    "We can see that the chapters \"Introduction\", \"Input\" and \"Structured Output\" are retrieved from the collection ordered by their distance to the query vector, in increasing order.\n",
    "\n",
    "We observe that the Introduction chapter is the most relevant one as it ranks first, followed by the Input and Structured Output chapters. Indeed, the purpose of the book is included in the Introduction chapter demonstrating the retrieval system successfully retrieved the most relevant document to the input query, in this simple example.\n",
    "\n",
    "In order to understand how the retrieval system works and how the \"distance to the query vector\" is computed, we need to understand how embeddings are created and how documents are indexed."
   ]
  },
  {
   "cell_type": "markdown",
   "metadata": {},
   "source": [
    "**Embeddings**\n",
    "\n",
    "Embeddings are numerical representations of data (including text, images, audio, etc.) that capture meaning, allowing machines to process data quantitatively. Each embedding can be represented as a vector of floating-point numbers such that embedded data with similar meanings produce similar, i.e. close, vectors [^embeddings_definition].\n",
    "\n",
    "[^embeddings_definition]: Bengio et al. {cite}`bengio2014representationlearningreviewnew` provide serves as an excellent reference for representation learning in general including embeddings. OpenAI provides a good intro to Embeddings for developers {cite}`openai2024embeddings`\n",
    "\n",
    "For text data, small distances among embeddings suggest high semantic relatedness and large distances suggest low semantic relatedness among the embedded texts. HuggingFace provides a leaderboard of embeddings models {cite}`huggingface2024mteb`, which are ranked by dimensions such as classification, clustering and reranking performance.\n",
    "\n",
    "Behind the scenes, ChromaDB is using the model `all-MiniLM-L6-v2` by default [^chroma_embeddings] to create embeddings for the input documents and the query (see {numref}`embedding`). This model is available in `sentence_transformers` {cite}`sentencetransformers2024website`. Let's see how it works.\n",
    "\n",
    "```{figure} ../_static/input/embedding.svg\n",
    "---\n",
    "name: embedding\n",
    "alt: Embedding\n",
    "scale: 70%\n",
    "align: center\n",
    "---\n",
    "Embedding: From text to vectors.\n",
    "```\n",
    "\n",
    "[^chroma_embeddings]: ChromaDB enables custom embedding functions and provides a list of wrappers around commonly used embedding models and APIs https://docs.trychroma.com/docs/embeddings/embedding-functions"
   ]
  },
  {
   "cell_type": "code",
   "execution_count": null,
   "metadata": {},
   "outputs": [],
   "source": [
    "from sentence_transformers import SentenceTransformer\n",
    "\n",
    "embedding_model = SentenceTransformer('all-MiniLM-L6-v2')"
   ]
  },
  {
   "cell_type": "markdown",
   "metadata": {},
   "source": [
    "We replicate what ChromaDB did by embedding our chapters as well as input query using sentence transformers."
   ]
  },
  {
   "cell_type": "code",
   "execution_count": 4,
   "metadata": {},
   "outputs": [
    {
     "name": "stdout",
     "output_type": "stream",
     "text": [
      "(4, 384)\n"
     ]
    }
   ],
   "source": [
    "q = \"What is the purpose of this book?\"\n",
    "docs_to_embed = [q] + chapters\n",
    "embeddings = embedding_model.encode(docs_to_embed)\n",
    "print(embeddings.shape)"
   ]
  },
  {
   "cell_type": "markdown",
   "metadata": {},
   "source": [
    "As a result, we obtain four 384-dimensional vectors representing our embeddings (one for each of the three chapters and one for the input query).\n",
    "\n",
    "Now we can calculate similarity among the embeddings. By default, sentence transformers uses cosine similarity as similarity metric."
   ]
  },
  {
   "cell_type": "code",
   "execution_count": null,
   "metadata": {},
   "outputs": [],
   "source": [
    "similarities = embedding_model.similarity(embeddings, embeddings)\n",
    "similarities"
   ]
  },
  {
   "cell_type": "markdown",
   "metadata": {},
   "source": [
    "```\n",
    "tensor([[1.0000, 0.4402, 0.3022, 0.4028],\n",
    "        [0.4402, 1.0000, 0.6606, 0.5807],\n",
    "        [0.3022, 0.6606, 1.0000, 0.6313],\n",
    "        [0.4028, 0.5807, 0.6313, 1.0000]])\n",
    "```"
   ]
  },
  {
   "cell_type": "markdown",
   "metadata": {},
   "source": [
    "Let's visualize the similarity matrix to better understand the relationships between our documents in {numref}`similarities`. The top row of the matrix represents the similarity of the input query against all chapters. That's exactly what we previously obtained by querying ChromaDB which returned a response with documents ranked by similarity to input query. As expected, the Introduction chapter is the most similar to the input query followed by the Input and Structured Output chapters, as we previously observed with ChromaDB.\n",
    "\n",
    "```{figure} ../_static/input/similarity.png\n",
    "---\n",
    "name: similarities\n",
    "alt: Similarity matrix heatmap\n",
    "scale: 90%\n",
    "align: center\n",
    "---\n",
    "Similarity matrix heatmap showing relationships among query and chapters.\n",
    "``` \n",
    "\n"
   ]
  },
  {
   "cell_type": "markdown",
   "metadata": {},
   "source": [
    "Calculating similarity among embeddings can become computationally intensive if brute force is used, i.e. pair-wise computation, as the number of documents grows in the knowledge base. Indexing is a technique to help address this challenge."
   ]
  },
  {
   "cell_type": "markdown",
   "metadata": {},
   "source": [
    "**Indexing**\n",
    "\n",
    "Indexing is an optimization technique that makes similarity searches faster and more efficient.\n",
    "\n",
    "Without indexing, finding similar vectors would require an exhaustive search - comparing a query vector against every single vector in the database. For large datasets, this becomes prohibitively slow.\n",
    "\n",
    "Common indexing strategies include:\n",
    "\n",
    "1. **Tree-based Indexes**\n",
    "   - Examples include KD-trees and Ball trees\n",
    "   - Work by partitioning the vector space into hierarchical regions\n",
    "   - Effective for low-dimensional data but suffer from the \"curse of dimensionality\"\n",
    "\n",
    "2. **Graph-based Indexes**\n",
    "   - HNSW (Hierarchical Navigable Small World) is a prominent example\n",
    "   - Creates a multi-layered graph structure for navigation\n",
    "   - Offers excellent search speed but requires more memory\n",
    "\n",
    "3. **LSH (Locality-Sensitive Hashing)**\n",
    "   - Uses hash functions that map similar vectors to the same buckets\n",
    "   - More memory-efficient than graph-based methods\n",
    "   - May sacrifice some accuracy for performance\n",
    "\n",
    "4. **Quantization-based Indexes**\n",
    "   - Product Quantization compresses vectors by encoding them into discrete values\n",
    "   - Reduces memory footprint significantly\n",
    "   - Good balance between accuracy and resource usage\n",
    "\n",
    "HNSW is the underlying library for ChromaDB vector indexing and search {cite}`chromadb2024hnsw`. HNSW provides fast searches with high accuracy but uses more memory. LSH and quantization methods offer better memory efficiency but may sacrifice some precision.\n",
    "\n",
    "But is the combination of indexing and basic embeddings-based similarity sufficient to retrieve relevant documents? Often not, as we will see next, as we cover reranking technique."
   ]
  },
  {
   "cell_type": "markdown",
   "metadata": {},
   "source": [
    "#### Reranking\n",
    "\n",
    "Let's go back to querying our vector database."
   ]
  },
  {
   "cell_type": "markdown",
   "metadata": {},
   "source": [
    "First, we write a query about how to get structured output from LLMs. Successfully retrieving the \"Structured Output\" chapter from the book as top result."
   ]
  },
  {
   "cell_type": "code",
   "execution_count": 5,
   "metadata": {},
   "outputs": [
    {
     "name": "stdout",
     "output_type": "stream",
     "text": [
      "[['structured_output', 'input', 'intro']]\n"
     ]
    }
   ],
   "source": [
    "q = \"How to get structured output from LLMs?\"\n",
    "res = query_collection(collection, q)\n",
    "res.get(\"ids\")"
   ]
  },
  {
   "cell_type": "markdown",
   "metadata": {},
   "source": [
    "Next, we would like to obtain a tutorial on `Docling`, a tool we covered in this very chapter. However, we fail to obtain the correct chapter and instead obtain the \"Introduction\" chapter as a result."
   ]
  },
  {
   "cell_type": "code",
   "execution_count": 6,
   "metadata": {},
   "outputs": [
    {
     "name": "stdout",
     "output_type": "stream",
     "text": [
      "[['intro', 'input', 'structured_output']]\n"
     ]
    }
   ],
   "source": [
    "q = \"Docling tutorial\"\n",
    "res = query_collection(collection, q)\n",
    "res.get(\"ids\")"
   ]
  },
  {
   "cell_type": "markdown",
   "metadata": {},
   "source": [
    "Retrieval systems solely based on vector similarity search might miss semantic relevance. That brings the need for techniques that can improve accuracy of the retrieval system. One such technique is re-ranking.\n",
    "\n",
    "Re-ranking is a method that can improve accuracy of the retrieval system by re-ranking the retrieved documents based on their relevance to the input query.\n",
    "\n",
    "In the following, we will use the `sentence_transformers` library to re-rank the retrieved documents based on their relevance to the input query. We utilize the `CrossEncoder` model to re-rank the documents. Cross-Encoder models are more accurate at judging relevance at the cost of speed compared to basic vector-based similarity. "
   ]
  },
  {
   "cell_type": "markdown",
   "metadata": {},
   "source": [
    "We can implement a reranking step in a RAG system using a Cross-Encoder model in the following steps:\n",
    "\n",
    "1. First, we initialize the Cross-Encoder model:\n",
    "```python\n",
    "model = CrossEncoder('cross-encoder/ms-marco-MiniLM-L-6-v2', max_length=512)\n",
    "```\n",
    "- Uses the `ms-marco-MiniLM-L-6-v2` model, which is specifically trained for passage reranking\n",
    "- Sets a maximum sequence length of 512 tokens\n",
    "- This model is designed to score the relevance between query-document pairs\n",
    "\n",
    "2. Then we perform the reranking:\n",
    "```python\n",
    "scores = model.predict([(q, doc) for doc in res[\"documents\"][0]])\n",
    "```\n",
    "- Creates pairs of (query, document) for each retrieved document\n",
    "- The model predicts relevance scores for each pair\n",
    "- Higher scores indicate better semantic match between query and document\n",
    "\n",
    "3. Finally, we select the best match:\n",
    "```python\n",
    "print(res[\"documents\"][0][np.argmax(scores)])\n",
    "```\n",
    "- `np.argmax(scores)` finds the index of the highest scoring document\n",
    "- Uses that index to retrieve the most relevant document\n"
   ]
  },
  {
   "cell_type": "markdown",
   "metadata": {},
   "source": [
    "We obtain the following scores for the retrieved documents (\"intro\", \"input\", \"structured_output\"), the higher the score, the more relevant the document is in relation to the input query.\n",
    "\n",
    "```\n",
    "array([-8.52623 , -6.328738, -8.750055], dtype=float32)\n",
    "```"
   ]
  },
  {
   "cell_type": "markdown",
   "metadata": {},
   "source": [
    "As a result, we obtain the index of the highest scoring document, which corresponds to the \"input\" chapter. Hence, the re-ranking step successfully retrieved the correct chapter."
   ]
  },
  {
   "cell_type": "code",
   "execution_count": 8,
   "metadata": {},
   "outputs": [
    {
     "name": "stdout",
     "output_type": "stream",
     "text": [
      "input\n"
     ]
    }
   ],
   "source": [
    "print(res[\"ids\"][0][np.argmax(scores)])"
   ]
  },
  {
   "cell_type": "markdown",
   "metadata": {},
   "source": [
    "In RAG systems, the idea is to first run semantic similarity on embeddings, which should be fast but potentially inaccurate, and then run reranking from the top-k results, which should be more accurate but slower. By doing so, we can balance the speed and accuracy of the retrieval system.\n",
    "\n",
    "Hence, instead of going over all retrieved documents:\n",
    "```python\n",
    "scores = model.predict([(q, doc) for doc in res[\"documents\"][0]])\n",
    "```\n",
    "We would run reranking on the TOPK results, where TOPK <<< number of documents:\n",
    "```python\n",
    "scores = model.predict([(q, doc) for doc in res[\"documents\"][0][:TOPK]])\n",
    "```"
   ]
  },
  {
   "cell_type": "markdown",
   "metadata": {},
   "source": [
    "#### LLMs with RAG\n",
    "\n",
    "We are finally ready to use the retrieval system to help the LLM answer our authorship question. A common way to integrate RAGs with LLMs is via in-context learning. With in-context learning the LLM learns from the retrieved documents by providing them in the context window as represented in {numref}`incontext`. This is accomplished via a prompt template structure as follows.\n",
    "\n",
    "```{figure} ../_static/input/incontext.svg\n",
    "---\n",
    "name: incontext\n",
    "alt: In-Context Learning\n",
    "scale: 95%\n",
    "align: center\n",
    "---\n",
    "RAG LLM with In-Context Learning\n",
    "```\n"
   ]
  },
  {
   "cell_type": "markdown",
   "metadata": {},
   "source": [
    "```python\n",
    " rag_system_prompt_template = f\"\"\"\n",
    " You are a helpful assistant that answers questions based on the provided CONTEXT.\n",
    "\n",
    " CONTEXT: {context}\n",
    " \"\"\"\n",
    "\n",
    " user_prompt_template = f\"\"\"\n",
    " QUESTION: {input}\n",
    " \"\"\"\n",
    "```\n",
    "\n",
    "This prompt strategy demonstrates a common in-context learning pattern where retrieved documents are incorporated into the LLM's context to enhance response accuracy and relevance. The prompt structure typically consists of a system prompt that:\n",
    "- Sets clear boundaries for the LLM to use information from the provided context\n",
    "- Includes the retrieved documents as context\n",
    "\n",
    "This approach:\n",
    "- Reduces hallucination by grounding responses in source documents\n",
    "- Improves answer relevance by providing contextually relevant information to the LLM\n",
    "\n",
    "The context variable is typically populated with the highest-scoring document(s) from the retrieval step, while the input variable contains the user's original query."
   ]
  },
  {
   "cell_type": "code",
   "execution_count": null,
   "metadata": {},
   "outputs": [],
   "source": [
    "def RAG_qa(client, model, context, input):\n",
    "    \"\"\"\n",
    "    Generate a summary of input using a given model\n",
    "    \"\"\"\n",
    "    rag_system_prompt_template =  f\"\"\"You are a helpful assistant that answers questions based on the provided CONTEXT.\n",
    "\n",
    "    CONTEXT: {context}\n",
    "    \"\"\"\n",
    "    \n",
    "    response = client.chat.completions.create(\n",
    "    model=model,\n",
    "        messages=[{\"role\": \"system\", \"content\": rag_system_prompt_template},\n",
    "                 {\"role\": \"user\", \"content\": f\"QUESTION: {input}\"}]\n",
    "    )\n",
    "    return response.choices[0].message.content"
   ]
  },
  {
   "cell_type": "markdown",
   "metadata": {},
   "source": [
    "First, we set the LLM."
   ]
  },
  {
   "cell_type": "code",
   "execution_count": null,
   "metadata": {},
   "outputs": [],
   "source": [
    "from dotenv import load_dotenv\n",
    "import os\n",
    "\n",
    "# Load environment variables from .env file\n",
    "load_dotenv()\n",
    "\n",
    "from openai import OpenAI\n",
    "client = OpenAI()\n",
    "model = \"gpt-4o-mini\""
   ]
  },
  {
   "cell_type": "markdown",
   "metadata": {},
   "source": [
    "Then, we run the retrieval step."
   ]
  },
  {
   "cell_type": "code",
   "execution_count": null,
   "metadata": {},
   "outputs": [],
   "source": [
    "res = query_collection(collection, q)"
   ]
  },
  {
   "cell_type": "markdown",
   "metadata": {},
   "source": [
    "Next, we run the re-ranking step setting it to consider the `TOPK` retrieved documents."
   ]
  },
  {
   "cell_type": "code",
   "execution_count": null,
   "metadata": {},
   "outputs": [],
   "source": [
    "TOPK = 2\n",
    "scores = model.predict([(q, doc) for doc in res[\"documents\"][0][:TOPK]])\n",
    "res_reranked = res[\"documents\"][0][np.argmax(scores)]"
   ]
  },
  {
   "cell_type": "markdown",
   "metadata": {},
   "source": [
    "We then pass the top document as context and invoke the LLM with our RAG-based template leading to a successful response."
   ]
  },
  {
   "cell_type": "code",
   "execution_count": 9,
   "metadata": {},
   "outputs": [
    {
     "name": "stdout",
     "output_type": "stream",
     "text": [
      "The author of the book \"Taming LLMs\" is Tharsis Souza.\n"
     ]
    }
   ],
   "source": [
    "answer = RAG_qa(model, res_reranked[0], question)\n",
    "answer"
   ]
  },
  {
   "cell_type": "markdown",
   "metadata": {},
   "source": [
    "In this section, we motivated the use of RAGs as a tool to equip LLMs with relevant context and provided a canonical implementation of its core components. RAGs, however, can be implemented in many shapes and forms and entire books have been written about them. We point the user to additional resources if more specialized techniques and architectures are needed {cite}`kimothi2024simpleguiderag, athinaai2024ragcookbooks, diamant2024ragtechniques, hands-on-llms-book`.\n",
    "\n",
    "Next, we discuss RAGs challenges and limitations and conclude our RAGs section envisioning the future of RAGs challenged by the rise of long-context language models.\n",
    "\n",
    "### Challenges and Limitations\n",
    "\n",
    "While RAG systems offer powerful capabilities for enhancing LLM responses with external knowledge, they face several significant challenges and limitations that require careful consideration:\n",
    " \n",
    "- **Data Quality and Accuracy**: The effectiveness of RAG systems fundamentally depends on the quality and reliability of their knowledge sources. When these sources contain inaccurate, outdated, biased, or incomplete information, the system's responses become unreliable. This challenge is particularly acute when dealing with rapidly evolving topics or when sourcing information from unverified channels.\n",
    " \n",
    "- **Computational Cost and Latency**: Implementing RAG systems at scale presents computational and operational challenges. The process of embedding documents, maintaining vector databases, and performing similarity searches across large knowledge bases demands computational, and operational resources. In real-time applications, these requirements can introduce noticeable latency, potentially degrading the user experience and limiting practical applications.\n",
    " \n",
    "- **Explainability and Evaluation**: The complexity of RAG systems, arising from the intricate interaction between retrieval mechanisms and generative models, makes it difficult to trace and explain their reasoning processes. Traditional evaluation metrics often fail to capture the nuanced aspects of RAG performance, such as contextual relevance and factual consistency. This limitation hampers both system improvement and stakeholder trust. Readers are encouraged to read Chapter {ref}`evals` for general LLM evaluation issues as well as consider tools such as Ragas {cite}`ragas2024evaluation` for RAG evaluation.\n",
    " \n",
    "- **Hallucination Management**: Though RAG systems help ground LLM responses in source documents, they do not completely eliminate hallucinations. The generative component may still produce content that extrapolates beyond or misinterprets the retrieved context. This risk becomes particularly concerning when the system confidently presents incorrect information with apparent source attribution.\n",
    "\n",
    "\n",
    "Moreover, recent research has shed light on critical limitations of key techniques used in RAGs systems. A relevant finding pertains to reranking, which has shown {cite}`jacob2024drowningdocumentsconsequencesscaling`:\n",
    "\n",
    "- **Diminishing Returns**: Performance degrades as the number of documents (K) increases, sometimes performing worse than basic retrievers when dealing with large datasets.\n",
    "- **Poor Document Discrimination**: Rerankers can be misled by irrelevant documents, sometimes assigning high scores to content with minimal relevance to the query.\n",
    "- **Consistency Issues**: Performance and relative rankings between different rerankers can vary significantly depending on the number of documents being processed.\n",
    "\n",
    "### Will RAGs exist in the future?\n",
    "\n",
    "This question is posed as we contrast RAGs with LLMs with long-context windows (LCs).\n",
    "\n",
    "Recent research has shed light on this specific point {cite}`li2024retrievalaugmentedgenerationlongcontext` suggesting a trade-off between cost and performance. On the one hand, RAGs can be seen as a cost-effective alternative to LC models:\n",
    "*   RAGs offer lower computational cost compared to LCs due to the significantly shorter input length required for processing.\n",
    "*   This cost-efficiency arises because RAG reduces the number of input tokens to LLMs, which in turn reduces overall usage cost.\n",
    "\n",
    "On the other hand, this RAG benefit is achieved at the cost of performance:\n",
    "*   Recent advancements in LLMs, in particular with Gemini-1.5 and GPT-4o models, demonstrate capabilities in understanding long contexts directly, which enables them to outperform RAG in terms of average performance.\n",
    "*   LC models can process extremely long contexts, such as Gemini 1.5 which can handle up to 1 million tokens, and these models benefit from large-scale pretraining to develop strong long-context capabilities.\n",
    "\n",
    "This cost-performance trade-off is illustrated in {numref}`LC`, where LC models outperform RAGs in terms of average performance while RAGs are more cost-effective.\n",
    "\n",
    "```{figure} ../_static/input/LC.png\n",
    "---\n",
    "name: LC\n",
    "alt: Long-Context LLMs for Superior Performance\n",
    "scale: 50%\n",
    "align: center\n",
    "---\n",
    "Long-Context LLMs demonstrate superior performance while RAGs are more cost-effective {cite}`li2024retrievalaugmentedgenerationlongcontext`.\n",
    "```\n",
    "\n",
    "{numref}`LC` also shows a model called \"SELF-ROUTE\" which combines RAG and LC by routing queries based on model self-reflection. This is a hybrid approach that reduces computational costs while maintaining performance comparable to LC. The advantage of SELF-ROUTE is most significant for smaller values of *k*, where *k* is the number of retrieved text chunks, and SELF-ROUTE shows a marked improvement in performance over RAG, while as k increases the performance of RAG and SELF-ROUTE approaches that of LC.\n",
    "\n",
    "Another example of a hybrid approach that combines the benefits of both LC and RAGs is RetroLLM {cite}`li2024retrollmempoweringlargelanguage`, which is a unified framework that integrates retrieval and generation into a single process, enabling language models to generate fine-grained evidence directly from a corpus. The key contribution is that this approach delivers those benefits while eliminating the need for a separate retriever, addressing limitations of traditional RAG methods. Experimental results demonstrate RetroLLM's superior performance compared to traditional RAG methods, across both in-domain and out-of-domain tasks. It also achieves a significant reduction in token consumption due to its fine-grained evidence retrieval.\n",
    "\n",
    "CAG {cite}`chan2024dontragcacheaugmentedgeneration` is another solution that eliminates the need for RAGs as it proposes cache-augmented generation (CAG). CAG preloads all relevant data into a large language model's extended context window, eliminating the need for real-time retrieval and improving speed and accuracy. This is achieved by precomputing a key-value cache, further optimizing inference time. CAG demonstrates superior performance compared to RAG by achieving higher BERT scores in most evaluated scenarios, indicating better answer quality, and by having significantly reduced generation times. These results suggest that CAG can be both more accurate and more efficient than traditional RAG systems.\n",
    "\n",
    "Another relevant development in this area is the introduction of LOFT {cite}`lee2024longcontextlanguagemodelssubsume`, a benchmark to assess this paradigm shift from RAGs to LCs, using real-world tasks requiring context up to millions of tokens. Evidence suggests LCs can deliver performance with simplified pipelines compared to RAGs, particularly for tasking requiring multi-hop reasoning over long contexts when using Chain-of-Thought {cite}`wei2023chainofthoughtpromptingelicitsreasoning`. However, LCs can still be outperformed by specialized retrievers, in particular Gecko, a specialized model fine-tuned on extensive text retrieval and similarity tasks.\n",
    "\n",
    "Bottom-line: Do we really need RAGs? The answer is conditional:\n",
    "\n",
    "*   **RAG may be relevant when cost-effectiveness is a key requirement** and where the model needs to access vast amounts of external knowledge without incurring high computational expenses. However, as LLMs context window sizes increase and LLMs cost per input token decreases, RAGs may not be as relevant as it was before.\n",
    "*   **Long-context LLMs are superior when performance is the primary concern**, and the model needs to handle extensive texts that require deep contextual understanding and reasoning.\n",
    "*   **Hybrid approaches like SELF-ROUTE are valuable as they combine the strengths of RAG and LC** offering a practical balance between cost and performance, especially for applications where both factors are critical.\n",
    "\n",
    "Ultimately, the choice among RAG, LC, or a hybrid method depends on the specific requirements of the task, available resources, and the acceptable trade-off between cost and performance.\n",
    "\n",
    "In a later case study, we demonstrate the power of LCs as we construct a Quiz generator with citations over a large knowledge base without the use of chunking nor RAGs.\n"
   ]
  },
  {
   "cell_type": "markdown",
   "metadata": {},
   "source": [
    "## A Note on Frameworks\n",
    "\n",
    "We have covered a few open source tools for parsing data and provided a canonical RAG pipeline directly using an open source VectorDB together with an LLM. There is a growing number of frameworks that offer similar functionality wrapping the same core concepts at a higher level of abstraction. The two most popular ones are `Langchain` and `LlamaIndex`. \n",
    "\n",
    "For instance, the code below shows how to use `LlamaIndex`'s `LlamaParse` for parsing input documents, which offers support for a wide range of file formats (e.g. .pdf, .pptx, .docx, .xlsx, .html). We observe that the code is very similar to the one we used for `MarkitDown` and `Docling`.\n",
    "\n",
    "```python\n",
    "from llama_parse import LlamaParse\n",
    "\n",
    "# Initialize the parser\n",
    "parser = LlamaParse(\n",
    "    api_key=\"llx-your-api-key-here\",\n",
    "    result_type=\"markdown\",  # Can be \"markdown\" or \"text\"\n",
    "    verbose=True\n",
    ")\n",
    "\n",
    "documents = parser.load_data([\"./doc1.pdf\", \"./doc2.pdf\"])\n",
    "```\n",
    "\n",
    "As another example, the code below replicates our ChromaDB-based retrieval system using `LlamaIndex` {cite}`llamaindex2024storing`.\n",
    "\n",
    "As we can see, similar concepts are used:\n",
    "- Documents to represent elements of the knowledge base\n",
    "- Collections to store the documents\n",
    "- Indexing of embeddings in the VectorDB and finally\n",
    "- Querying the VectorDB to retrieve the documents\n"
   ]
  },
  {
   "cell_type": "markdown",
   "metadata": {},
   "source": [
    "```python\n",
    "import chromadb\n",
    "from llama_index.core import VectorStoreIndex, SimpleDirectoryReader\n",
    "from llama_index.vector_stores.chroma import ChromaVectorStore\n",
    "from llama_index.core import StorageContext\n",
    "\n",
    "# load some documents\n",
    "documents = SimpleDirectoryReader(\"./data\").load_data()\n",
    "\n",
    "# initialize client, setting path to save data\n",
    "db = chromadb.PersistentClient(path=\"./chroma_db\")\n",
    "\n",
    "# create collection\n",
    "chroma_collection = db.get_or_create_collection(\"tamingllms\")\n",
    "\n",
    "# assign chroma as the vector_store to the context\n",
    "vector_store = ChromaVectorStore(chroma_collection=chroma_collection)\n",
    "storage_context = StorageContext.from_defaults(vector_store=vector_store)\n",
    "\n",
    "# create your index\n",
    "index = VectorStoreIndex.from_documents(\n",
    "    documents, storage_context=storage_context\n",
    ")\n",
    "\n",
    "# create a query engine and query\n",
    "query_engine = index.as_query_engine()\n",
    "response = query_engine.query(\"Who is the author of Taming LLMs?\")\n",
    "print(response)"
   ]
  },
  {
   "cell_type": "markdown",
   "metadata": {},
   "source": [
    "Frameworks are useful for quickly prototyping RAG systems and for building applications on top of them as they provide a higher level of abstraction and integration with third-party libraries. However, the underlying concepts are the same as the ones we have covered in this chapter. More often than not, problems arise when developers either do not understand the underlying concepts or fail to understand the details of the implement behind the abstractions provided by the framework. Therefore, it is recommended to try and start your implementation using lower level tools as much as possible and only when (i) the underlying problem as well as (ii) the desired solution are well understood, then consider moving to higher level frameworks if really needed."
   ]
  },
  {
   "cell_type": "markdown",
   "metadata": {},
   "source": [
    "## Case Studies\n",
    "\n",
    "This section presents two case studies to complement topics we have covered in this chapter in the context of managing input data for LLMs.\n",
    "\n",
    "First, we cover content chunking, in particular Content Chunking with Contextual Linking which showcases how intelligent chunking strategies can overcome both context window and output token limitations. This case study illustrates techniques for breaking down and reassembling content while maintaining coherence, enabling the generation of high-quality long-form outputs despite model constraints.\n",
    "\n",
    "Second, we build a Quiz generator with citations using long context window. Not all knowledge intense applications require RAGs. In this case study, we show how to use long context window as well as some additional input management techniques such as prompt caching for efficiency and reference management to enhance response accuracy and verifiability. These approaches show how to maximize the benefits of larger context models while maintaining response quality."
   ]
  },
  {
   "cell_type": "markdown",
   "metadata": {},
   "source": [
    "(chunking)=\n",
    "### Case Study I: Content Chunking with Contextual Linking\n",
    "\n",
    "Content chunking is commonly used to breakdown long-form content into smaller, manageable chunks. In the context of RAGs, this can be helpful not only to help the retrieval system find more contextually relevant documents but also lead to a more cost efficient LLM solution since fewer tokens are processed in the context window. Furthermore, semantic chunking can increase accuracy of RAG systems {cite}`zenml2024rag`.\n",
    "\n",
    "Content chunking with contextual linking is a chunking technique that seeks to split input content while keeping chunk-specific context, hence allowing the LLM to maintain coherence and context when generating responses per chunks. In that way, this technique tackles two key problems:\n",
    "1. The LLM's inability to process long inputs to do context-size limits\n",
    "2. The LLM's inability to maintain coherence and context when generating responses per chunks\n",
    "\n",
    "As a consequence, a third problem is also tackled: LLM's inability to generate long-form content due to the `max_output_tokens` limitation. Since we generate responses per chunk, as we will see later, we end up with a solution that is capable of generating long-form content while maintaining coherence.\n",
    "\n",
    "We exemplify this technique by following these steps:\n",
    "1. **Chunking the Content**: The input content is split into smaller chunks. This allows the LLM to process each chunk individually, focusing on generating a complete and detailed response for that specific section of the input.\n",
    "\n",
    "2. **Maintaining Context**: Each chunk is linked with contextual information from the previous chunks. This helps in maintaining the flow and coherence of the content across multiple chunks.\n",
    "\n",
    "3. **Generating Linked Prompts**: For each chunk, a prompt is generated that includes the chunk's content and its context. This prompt is then used to generate the output for that chunk.\n",
    "\n",
    "4. **Combining the Outputs**: The outputs of all chunks are combined to form the final long-form content.\n",
    "\n",
    "Let's examine an example implementation of this technique.\n",
    "\n",
    "#### Generating long-form content\n",
    "\n",
    "- Goal: Generate a long-form report analyzing a company's financial statement.\n",
    "- Input: A company's 10K SEC filing.\n",
    "\n",
    "```{figure} ../_static/structured_output/diagram1.png\n",
    "---\n",
    "name: content-chunking-with-contextual-linking\n",
    "alt: Content Chunking with Contextual Linking\n",
    "scale: 50%\n",
    "align: center\n",
    "---\n",
    "Content Chunking with Contextual Linking Schematic Representation.\n",
    "```\n",
    "\n",
    "The diagram in {numref}`content-chunking-with-contextual-linking` illustrates the process we will follow for handling long-form content generation with Large Language Models through \"Content Chunking with Contextual Linking.\" It shows how input content is first split into manageable chunks using a chunking function (e.g. `CharacterTextSplitter` with `tiktoken` tokenizer), then each chunk is processed sequentially while maintaining context from previous chunks. For each chunk, the system updates the context, generates a dynamic prompt with specific parameters, makes a call to the LLM chain, and stores the response. After all chunks are processed, the individual responses are combined with newlines to create the final report, effectively working around the token limit constraints of LLMs while maintaining coherence across the generated content.\n",
    "\n",
    "**Step 1: Chunking the Content**\n",
    "\n",
    "There are different methods for chunking, and each of them might be appropriate for different situations. However, we can broadly group chunking strategies in two types:\n",
    "- **Fixed-size Chunking**: This is the most common and straightforward approach to chunking. We simply decide the number of tokens in our chunk and, optionally, whether there should be any overlap between them. In general, we will want to keep some overlap between chunks to make sure that the semantic context doesn’t get lost between chunks. Fixed-sized chunking may be a reasonable path in many common cases. Compared to other forms of chunking, fixed-sized chunking is computationally cheap and simple to use since it doesn’t require the use of any specialied techniques or libraries.\n",
    "- **Content-aware Chunking**: These are a set of methods for taking advantage of the nature of the content we’re chunking and applying more sophisticated chunking to it. Examples include:\n",
    "  - **Sentence Splitting**: Many models are optimized for embedding sentence-level content. Naturally, we would use sentence chunking, and there are several approaches and tools available to do this, including naive splitting (e.g. splitting on periods), NLTK, and spaCy.\n",
    "  - **Recursive Chunking**: Recursive chunking divides the input text into smaller chunks in a hierarchical and iterative manner using a set of separators.\n",
    "  - **Semantic Chunking**: This is a class of methods that leverages embeddings to extract the semantic meaning present in your data, creating chunks that are made up of sentences that talk about the same theme or topic.\n",
    "\n",
    "  Here, we will utilize `langchain` for a content-aware sentence-splitting strategy for chunking. Langchain offers several text splitters {cite}`langchain_text_splitters` such as JSON-, Markdown- and HTML-based or split by token. We will use the `CharacterTextSplitter` with `tiktoken` as our tokenizer to count the number of tokens per chunk which we can use to ensure that we do not surpass the input token limit of our model.\n"
   ]
  },
  {
   "cell_type": "code",
   "execution_count": null,
   "metadata": {},
   "outputs": [],
   "source": [
    "def get_chunks(text: str, chunk_size: int, chunk_overlap: int) -> list:\n",
    "    \"\"\"\n",
    "    Split input text into chunks of specified size with specified overlap.\n",
    "\n",
    "    Args:\n",
    "        text (str): The input text to be chunked.\n",
    "        chunk_size (int): The maximum size of each chunk in tokens.\n",
    "        chunk_overlap (int): The number of tokens to overlap between chunks.\n",
    "\n",
    "    Returns:\n",
    "        list: A list of text chunks.\n",
    "    \"\"\"\n",
    "    from langchain_text_splitters import CharacterTextSplitter\n",
    "\n",
    "    text_splitter = CharacterTextSplitter.from_tiktoken_encoder(chunk_size=chunk_size, chunk_overlap=chunk_overlap)\n",
    "    return text_splitter.split_text(text)\n"
   ]
  },
  {
   "cell_type": "markdown",
   "metadata": {},
   "source": [
    "**Step 2: Writing the Base Prompt Template**\n",
    "\n",
    "We will write a base prompt template which will serve as a foundational structure for all chunks, ensuring consistency in the instructions and context provided to the language model. The template includes the following parameters:\n",
    "- `role`: Defines the role or persona the model should assume.\n",
    "- `context`: Provides the background information or context for the task.\n",
    "- `instruction`: Specifies the task or action the model needs to perform.\n",
    "- `input_text`: Contains the actual text input that the model will process.\n",
    "- `requirements`: Lists any specific requirements or constraints for the output."
   ]
  },
  {
   "cell_type": "code",
   "execution_count": null,
   "metadata": {},
   "outputs": [],
   "source": [
    "from langchain_core.prompts import PromptTemplate\n",
    "def get_base_prompt_template() -> str:\n",
    "    \n",
    "    base_prompt = \"\"\"\n",
    "    ROLE: {role}\n",
    "    CONTEXT: {context}\n",
    "    INSTRUCTION: {instruction}\n",
    "    INPUT: {input}\n",
    "    REQUIREMENTS: {requirements}\n",
    "    \"\"\"\n",
    "    \n",
    "    prompt = PromptTemplate.from_template(base_prompt)\n",
    "    return prompt"
   ]
  },
  {
   "cell_type": "markdown",
   "metadata": {},
   "source": [
    "We will write a simple function that returns an `LLMChain` which is a simple `langchain` construct that allows you to chain together a combination of prompt templates, language models and output parsers."
   ]
  },
  {
   "cell_type": "code",
   "execution_count": null,
   "metadata": {},
   "outputs": [],
   "source": [
    "from langchain_core.output_parsers import StrOutputParser\n",
    "from langchain_community.chat_models import ChatLiteLLM\n",
    "\n",
    "def get_llm_chain(prompt_template: str, model_name: str, temperature: float = 0):\n",
    "    \"\"\"\n",
    "    Returns an LLMChain instance using langchain.\n",
    "\n",
    "    Args:\n",
    "        prompt_template (str): The prompt template to use.\n",
    "        model_name (str): The name of the model to use.\n",
    "        temperature (float): The temperature setting for the model.\n",
    "\n",
    "    Returns:\n",
    "        llm_chain: An instance of the LLMChain.\n",
    "    \"\"\"\n",
    "    \n",
    "    from dotenv import load_dotenv\n",
    "    import os\n",
    "\n",
    "    # Load environment variables from .env file\n",
    "    load_dotenv()\n",
    "    \n",
    "    api_key_label = model_name.split(\"/\")[0].upper() + \"_API_KEY\"\n",
    "    llm = ChatLiteLLM(\n",
    "        model=model_name,\n",
    "        temperature=temperature,\n",
    "        api_key=os.environ[api_key_label],\n",
    "    )\n",
    "    llm_chain = prompt_template | llm | StrOutputParser()\n",
    "    return llm_chain"
   ]
  },
  {
   "cell_type": "markdown",
   "metadata": {},
   "source": [
    "**Step 3: Constructing Dynamic Prompt Parameters**\n",
    "\n",
    "Now, we will write a function (`get_dynamic_prompt_template`) that constructs prompt parameters dynamically for each chunk."
   ]
  },
  {
   "cell_type": "code",
   "execution_count": null,
   "metadata": {},
   "outputs": [],
   "source": [
    "from typing import Dict\n",
    "def get_dynamic_prompt_params(prompt_params: Dict, \n",
    "                            part_idx: int, \n",
    "                            total_parts: int,\n",
    "                            chat_context: str,\n",
    "                            chunk: str) -> str:\n",
    "    \"\"\"\n",
    "    Construct prompt template dynamically per chunk while maintaining the chat context of the response generation.\n",
    "    \n",
    "    Args:\n",
    "        prompt_params (Dict): Original prompt parameters\n",
    "        part_idx (int): Index of current conversation part\n",
    "        total_parts (int): Total number of conversation parts\n",
    "        chat_context (str): Chat context from previous parts\n",
    "        chunk (str): Current chunk of text to be processed\n",
    "    Returns:\n",
    "        str: Dynamically constructed prompt template with part-specific params\n",
    "    \"\"\"\n",
    "    dynamic_prompt_params = prompt_params.copy()\n",
    "    # saves the chat context from previous parts\n",
    "    dynamic_prompt_params[\"context\"] = chat_context\n",
    "    # saves the current chunk of text to be processed as input\n",
    "    dynamic_prompt_params[\"input\"] = chunk\n",
    "    \n",
    "    # Add part-specific instructions\n",
    "    if part_idx == 0: # Introduction part\n",
    "        dynamic_prompt_params[\"instruction\"] = f\"\"\"\n",
    "        You are generating the Introduction part of a long report.\n",
    "        Don't cover any topics yet, just define the scope of the report.\n",
    "        \"\"\"\n",
    "    elif part_idx == total_parts - 1: # Conclusion part\n",
    "        dynamic_prompt_params[\"instruction\"] = f\"\"\"\n",
    "        You are generating the last part of a long report. \n",
    "        For this part, first discuss the below INPUT. Second, write a \"Conclusion\" section summarizing the main points discussed given in CONTEXT.\n",
    "        \"\"\"\n",
    "    else: # Main analysis part\n",
    "        dynamic_prompt_params[\"instruction\"] = f\"\"\"\n",
    "        You are generating part {part_idx+1} of {total_parts} parts of a long report.\n",
    "        For this part, analyze the below INPUT.\n",
    "        Organize your response in a way that is easy to read and understand either by creating new or merging with previously created structured sections given in CONTEXT.\n",
    "        \"\"\"\n",
    "    \n",
    "    return dynamic_prompt_params"
   ]
  },
  {
   "cell_type": "markdown",
   "metadata": {},
   "source": [
    "\n",
    "**Step 4: Generating the Report**\n",
    "\n",
    "Finally, we will write a function that generates the actual report by calling the `LLMChain` with the dynamically updated prompt parameters for each chunk and concatenating the results at the end."
   ]
  },
  {
   "cell_type": "code",
   "execution_count": null,
   "metadata": {},
   "outputs": [],
   "source": [
    "def generate_report(input_content: str, llm_model_name: str, \n",
    "                    role: str, requirements: str,\n",
    "                    chunk_size: int, chunk_overlap: int) -> str:\n",
    "    # stores the parts of the report, each generated by an individual LLM call\n",
    "    report_parts = [] \n",
    "    # split the input content into chunks\n",
    "    chunks = get_chunks(input_content, chunk_size, chunk_overlap)\n",
    "    # initialize the chat context with the input content\n",
    "    chat_context = input_content\n",
    "    # number of parts to be generated\n",
    "    num_parts = len(chunks)\n",
    "\n",
    "    prompt_params = {\n",
    "        \"role\": role, # user-provided\n",
    "        \"context\": \"\", # dinamically updated per part\n",
    "        \"instruction\": \"\", # dynamically updated per part\n",
    "        \"input\": \"\", # dynamically updated per part\n",
    "        \"requirements\": requirements #user-priovided\n",
    "    }\n",
    "\n",
    "    # get the LLMChain with the base prompt template\n",
    "    llm_chain = get_llm_chain(get_base_prompt_template(), \n",
    "                                 llm_model_name)\n",
    "\n",
    "    # dynamically update prompt_params per part\n",
    "    print(f\"Generating {num_parts} report parts\")\n",
    "    for i, chunk in enumerate(chunks):\n",
    "        dynamic_prompt_params = get_dynamic_prompt_params(\n",
    "            prompt_params,\n",
    "            part_idx=i,\n",
    "            total_parts=num_parts,\n",
    "            chat_context=chat_context,\n",
    "            chunk=chunk\n",
    "        )\n",
    "        \n",
    "        # invoke the LLMChain with the dynamically updated prompt parameters\n",
    "        response = llm_chain.invoke(dynamic_prompt_params)\n",
    "\n",
    "        # update the chat context with the cummulative response\n",
    "        if i == 0:\n",
    "            chat_context = response\n",
    "        else:\n",
    "            chat_context = chat_context + response\n",
    "            \n",
    "        print(f\"Generated part {i+1}/{num_parts}.\")\n",
    "        report_parts.append(response)\n",
    "\n",
    "    report = \"\\n\".join(report_parts)\n",
    "    return report"
   ]
  },
  {
   "cell_type": "markdown",
   "metadata": {},
   "source": [
    "**Example Usage**\n"
   ]
  },
  {
   "cell_type": "code",
   "execution_count": null,
   "metadata": {},
   "outputs": [],
   "source": [
    "# Load the text from sample 10K SEC filing\n",
    "with open('../data/apple.txt', 'r') as file:\n",
    "    text = file.read()"
   ]
  },
  {
   "cell_type": "code",
   "execution_count": null,
   "metadata": {},
   "outputs": [],
   "source": [
    "# Define the chunk and chunk overlap size\n",
    "MAX_CHUNK_SIZE = 10000\n",
    "MAX_CHUNK_OVERLAP = 0"
   ]
  },
  {
   "cell_type": "code",
   "execution_count": null,
   "metadata": {},
   "outputs": [],
   "source": [
    "report = generate_report(text, llm_model_name=\"gemini/gemini-1.5-flash-latest\", \n",
    "                           role=\"Financial Analyst\", \n",
    "                           requirements=\"The report should be in a readable, structured format, easy to understand and follow. Focus on finding risk factors and market moving insights.\",\n",
    "                           chunk_size=MAX_CHUNK_SIZE, \n",
    "                           chunk_overlap=MAX_CHUNK_OVERLAP)"
   ]
  },
  {
   "cell_type": "code",
   "execution_count": null,
   "metadata": {},
   "outputs": [],
   "source": [
    "# Save the generated report to a local file\n",
    "with open('data/apple_report.txt', 'w') as file:\n",
    "    file.write(report)\n"
   ]
  },
  {
   "cell_type": "code",
   "execution_count": 109,
   "metadata": {},
   "outputs": [
    {
     "data": {
      "text/markdown": [
       "**Introduction**\n",
       "\n",
       "This report provides a comprehensive analysis of Apple Inc.'s financial performance and position for the fiscal year ended September 28, 2024, as disclosed in its Form 10-K filing with the United States Securities and Exchange Commission.  The analysis will focus on identifying key risk factors impacting Apple's business, evaluating its financial health, and uncovering market-moving insights derived from the provided data.  The report will delve into Apple's various segments, product lines, and services, examining their performance and contributions to overall financial results.  Specific attention will be paid to identifying trends, potential challenges, and opportunities for future growth.  The analysis will also consider the broader macroeconomic environment and its influence on Apple's operations and financial outlook.  Finally, the report will incorporate relevant information from Apple's definitive proxy statement for its 2025 annual meeting of shareholders, as incorporated by reference in the Form 10-K.\n",
       "\n",
       "**PART 2: Key Risk Factors and Market-Moving Insights**\n",
       "\n",
       "This section analyzes key risk factors disclosed in Apple Inc.'s 2024 Form 10-K, focusing on their potential impact on financial performance and identifying potential market-moving insights.  The analysis is structured around the major risk categories identified in the filing.\n",
       "\n",
       "**2.1 Dependence on Third-Party Developers:**\n",
       "\n",
       "Apple's success is heavily reliant on the continued support and innovation of third-party software developers.  The Form 10-K highlights several critical aspects of this dependence:\n",
       "\n",
       "* **Market Share Vulnerability:** Apple's relatively smaller market share in smartphones, personal computers, and tablets compared to competitors (Android, Windows, gaming consoles) could discourage developers from prioritizing Apple's platform, leading to fewer high-quality apps and potentially impacting customer purchasing decisions.  This is a significant risk, especially given the rapid pace of technological change.  A decline in app availability or quality could negatively impact sales and market share.  **Market-moving insight:**  Monitoring developer activity and app quality across competing platforms is crucial for assessing this risk.  Any significant shift in developer focus away from iOS could be a negative market signal.\n",
       "\n",
       "* **App Store Dynamics:** While Apple allows developers to retain most App Store revenue, its commission structure and recent changes (e.g., complying with the Digital Markets Act (DMA) in the EU) introduce uncertainty.  Changes to the App Store's policies or fee structures could materially affect Apple's revenue and profitability.  **Market-moving insight:**  Closely monitoring regulatory developments (especially concerning the DMA) and their impact on App Store revenue is essential.  Any significant changes to Apple's App Store policies or revenue streams could trigger market reactions.\n",
       "\n",
       "* **Content Acquisition and Creation:** Apple's reliance on third-party digital content providers for its services introduces risks related to licensing agreements, competition, and pricing.  The cost of producing its own digital content is also increasing due to competition for talent and subscribers.  Failure to secure or create appealing content could negatively impact user engagement and revenue.  **Market-moving insight:**  Analyzing the success of Apple's original content initiatives and the renewal rates of third-party content agreements will provide insights into this risk.\n",
       "\n",
       "**2.2 Operational Risks:**\n",
       "\n",
       "\n",
       " (...) \n",
       "\n",
       " The reconciliation of segment operating income to consolidated operating income reveals that research and development (R&D) and other corporate expenses significantly impact overall profitability.  While increased R&D is generally positive, it reduces short-term profits.  The geographical breakdown of net sales and long-lived assets further emphasizes the concentration of Apple's business in the U.S. and China.  **Market-moving insight:**  Continued weakness in the Greater China market, sustained flat iPhone sales, or any significant changes in R&D spending should be closely monitored for their potential impact on Apple's financial performance and investor sentiment.\n",
       "\n",
       "\n",
       "**5.4 Auditor's Report and Internal Controls:**\n",
       "\n",
       "The auditor's report expresses an unqualified opinion on Apple's financial statements and internal control over financial reporting.  However, it identifies uncertain tax positions as a critical audit matter.  The significant amount of unrecognized tax benefits ($22.0 billion) and the complexity involved in evaluating these positions highlight a substantial risk.  Management's assessment of these positions involves significant judgment and relies on interpretations of complex tax laws.  Apple's management also asserts that its disclosure controls and procedures are effective.  **Market-moving insight:**  Any changes in tax laws, unfavorable rulings on uncertain tax positions, or weaknesses in internal controls could materially affect Apple's financial results and investor confidence.\n",
       "\n",
       "\n",
       "**Conclusion**\n",
       "\n",
       "This report provides a comprehensive analysis of Apple Inc.'s financial performance and position for fiscal year 2024.  While Apple maintains a strong financial position with substantial cash reserves and a robust capital return program, several key risk factors could significantly impact its future performance.  These risks include:\n",
       "\n",
       "* **Dependence on third-party developers:**  A shift in developer focus away from iOS or changes to the App Store's policies could negatively impact Apple's revenue and profitability.\n",
       "* **Operational risks:**  Employee retention challenges, reseller dependence, and cybersecurity threats pose significant operational risks.\n",
       "* **Legal and regulatory risks:**  Ongoing antitrust litigation, the Digital Markets Act (DMA) compliance, and data privacy regulations introduce substantial legal and regulatory uncertainties.\n",
       "* **Financial risks:**  Volatility in sales and profit margins, foreign exchange rate fluctuations, credit risk, and tax risks could impact Apple's financial performance.\n",
       "* **Supply chain concentration:**  Apple's reliance on a concentrated network of outsourcing partners, primarily located in a few Asian countries, and dependence on single or limited sources for certain custom components, exposes the company to significant supply chain risks.\n",
       "* **Uncertain tax positions:**  The significant amount of unrecognized tax benefits represents a substantial uncertainty that could materially affect Apple's financial results.\n",
       "\n",
       "Despite these risks, Apple's strong liquidity position, continued growth in its Services segment, and robust capital return program provide a degree of resilience.  However, investors and analysts should closely monitor the market-moving insights identified throughout this report, including developer activity, regulatory developments, regional economic conditions, supply chain stability, and the resolution of uncertain tax positions, to assess their potential impact on Apple's future performance and valuation.  The significant short-term obligations, while manageable given Apple's cash position, highlight the need for continued financial discipline and effective risk management.  A deeper, more granular analysis of the financial statements and notes is recommended for a more complete assessment."
      ],
      "text/plain": [
       "<IPython.core.display.Markdown object>"
      ]
     },
     "metadata": {},
     "output_type": "display_data"
    }
   ],
   "source": [
    "# Read and display the generated report\n",
    "with open('../data/apple_report.txt', 'r') as file:\n",
    "    report_content = file.read()\n",
    "    \n",
    "from IPython.display import Markdown\n",
    "\n",
    "# Display first and last 10% of the report content\n",
    "report_lines = report_content.splitlines()\n",
    "total_lines = len(report_lines)\n",
    "quarter_lines = total_lines // 10\n",
    "\n",
    "top_portion = '\\n'.join(report_lines[:quarter_lines])\n",
    "bottom_portion = '\\n'.join(report_lines[-quarter_lines:])\n",
    "\n",
    "display(Markdown(f\"{top_portion}\\n\\n (...) \\n\\n {bottom_portion}\"))\n"
   ]
  },
  {
   "cell_type": "markdown",
   "metadata": {},
   "source": [
    "---"
   ]
  },
  {
   "cell_type": "markdown",
   "metadata": {},
   "source": [
    "#### Discussion\n",
    "\n",
    "Results from the generated report present a few interesting aspects:\n",
    "\n",
    "- **Coherence**: The generated report demonstrates an apparent level of coherence. The sections are logically structured, and the flow of information is smooth. Each part of the report builds upon the previous sections, providing a comprehensive analysis of Apple Inc.'s financial performance and key risk factors. The use of headings and subheadings helps in maintaining clarity and organization throughout the document.\n",
    "\n",
    "- **Adherence to Instructions**: The LLM followed the provided instructions effectively. The report is in a readable, structured format, and it focuses on identifying risk factors and market-moving insights as requested. The analysis is detailed and covers various aspects of Apple's financial performance, including revenue segmentation, profitability, liquidity, and capital resources. The inclusion of market-moving insights adds value to the report, aligning with the specified requirements.\n",
    "\n",
    "Despite the seemingly good quality of the results, there are some limitations to consider:\n",
    "\n",
    "- **Depth of Analysis**: While the report covers a wide range of topics, the depth of analysis in certain sections may not be as comprehensive as a human expert's evaluation. Some nuances and contextual factors might be overlooked by the LLM. Splitting the report into multiple parts helps in mitigating this issue.\n",
    "\n",
    "- **Chunking Strategy**: The current approach splits the text into chunks based on size, which ensures that each chunk fits within the model's token limit. However, this method may disrupt the logical flow of the document, as sections of interest might be split across multiple chunks. An alternative approach could be \"structured\" chunking, where the text is divided based on meaningful sections or topics. This would preserve the coherence of each section, making it easier to follow and understand. Implementing structured chunking requires additional preprocessing to identify and segment the text appropriately, but it can significantly enhance the readability and logical flow of the generated report.\n",
    "\n",
    "Here, we implemented a simple strategy to improve the coherence in output generation given a multi-part chunked input. Many other strategies are possible. One related technique worth mentioning is Anthropic's Contextual Retrieval {cite}`anthropic2024contextualretrieval`. The approach, as shown in {numref}`anth_contextual`, employs an LLM itself to generate relevant context per chunk before passing these two pieces of information together to the LLM. This process was proposed in the context of RAGs to enhance its retrieval capabilities but can be applied more generally to improve output generation.\n",
    "```{figure} ../_static/input/anth_contextual.png\n",
    "---\n",
    "name: anth_contextual\n",
    "alt: Anthropic Contextual Linking\n",
    "scale: 50%\n",
    "align: center\n",
    "---\n",
    "Anthropic Contextual Linking {cite}`anthropic2024contextualretrieval`.\n",
    "```"
   ]
  },
  {
   "cell_type": "markdown",
   "metadata": {},
   "source": [
    "### Case Study II: Quiz Generation with Citations\n",
    "\n",
    "In this case study, we will build a Quiz generator with citations that explores additional input management techniques particularly useful with long context windows. The implementation includes prompt caching for efficiency and citation tracking to enhance accuracy and verifiability. We will use Gemini 1.5 Pro as our LLM model, which has a context window of 2M tokens.\n",
    "\n",
    "#### Use Case\n",
    "\n",
    "Let's assume you are a Harvard student enrolled in GOV 1039 \"The Birth of Modern Democracy\" (see {numref}`harvard-class`), you face a daunting reading list for next Tuesday's class on Rights. The readings include foundational documents like the Magna Carta, Declaration of Independence, and US Bill of Rights, each with specific sections to analyze.\n",
    "\n",
    "```{figure} ../_static/input/harvard.png\n",
    "---\n",
    "name: harvard-class\n",
    "alt: Harvard Class\n",
    "scale: 50%\n",
    "align: center\n",
    "---\n",
    "Harvard's Democratic Theory Class\n",
    "```\n",
    "\n",
    "Instead of trudging through these dense historical texts sequentially, we would like to:\n",
    "- Extract key insights and connections between these documents, conversationally.\n",
    "- Engage with the material through a quiz format.\n",
    "- Add citations to help with verifying answers.\n"
   ]
  },
  {
   "cell_type": "markdown",
   "metadata": {},
   "source": [
    "#### Implementation\n",
    "\n",
    "The full implementation is available at Book's [Github repository](https://github.com/souzatharsis/tamingLLMs/tamingllms/notebooks/src/gemini_duo.py). Here, we will cover the most relevant parts of the implementation.\n",
    "\n",
    "**Client Class**\n",
    "\n",
    "First, we will define the `Client` class which will provide the key interface users will interact with. It has the following summarized interface:\n",
    "\n",
    "- Initialization:\n",
    "    - `__init__(knowledge_base: List[str] = [])`: Initialize with optional list of URLs as knowledge base\n",
    "\n",
    "- Core Methods:\n",
    "    - `add_knowledge_base(urls: List[str]) -> None`: Add URLs to the knowledge base\n",
    "    - `add(urls: List[str]) -> None`: Extract content from URLs and add to conversation input\n",
    "    - `msg(msg: str = \"\", add_citations: bool = False) -> str`: Enables users to send messages to the client\n",
    "    - `quiz(add_citations: bool = True, num_questions: int = 10) -> str`: Generate a quiz based on full input memory\n",
    "\n",
    "- Key Attributes:\n",
    "    - `knowledge_base`: List of URLs providing foundation knowledge\n",
    "    - `input`: Current input being studied (short-term memory)\n",
    "    - `input_memory`: Cumulative input + knowledge base (long-term memory) \n",
    "    - `response`: Latest response from LLM\n",
    "    - `response_memory`: Cumulative responses (long-term memory)\n",
    "    - `urls_memory`: Cumulative list of processed URLs\n",
    "\n",
    "\n",
    "**Corpus-in-Context Prompting**\n",
    "\n",
    "The `add()` method is key since it is used to add content to the client. It takes a list of URLs and extracts the content from each URL using a content extractor (using MarkitDown). The content is then added to the conversation input memory in a way that enables citations using the \"Corpus-in-Context\" (CIC) Prompting {cite}`lee2024longcontextlanguagemodelssubsume`.\n",
    "\n",
    "{numref}`cic` shows how CIC format is used to enable citations. It inserts a corpus into the prompt. Each candidate citable part (e.g., passage, chapter) in a corpus is assigned a unique identifier (ID) that can be referenced as needed for that task.\n",
    "\n",
    "```{figure} ../_static/input/cic.png\n",
    "---\n",
    "name: cic\n",
    "alt: CIC Format\n",
    "scale: 50%\n",
    "align: center\n",
    "---\n",
    "Example of Corpus-in-Context Prompting for retrieval. \n",
    "```\n",
    "\n",
    "CiC prompting leverages LLM's capacity to follow instructions by carefully annotating the corpus with document IDs. It benefits from a strong, capable models to retrieve over large corpora provided in context. \n",
    "\n",
    "```python\n",
    "    def add(self, urls: List[str]) -> None:\n",
    "        self.urls = urls\n",
    "\n",
    "        # Add new content to input following CIC format to enable citations\n",
    "        for url in urls:\n",
    "            self.urls_memory.append(url)\n",
    "            content = self.extractor.convert(url).text_content\n",
    "            formatted_content = f\"ID: {self.reference_id} | {content} | END ID: {self.reference_id}\"\n",
    "            self.input += formatted_content + \"\\n\" \n",
    "            self.reference_id += 1\n",
    "        \n",
    "        # Update memory\n",
    "        self.input_memory = self.input_memory + self.input\n",
    "```\n",
    "\n",
    "The method `add_knowledge_base()` is a simple wrapper around the `add()` method. It is used to add URLs to the knowledge base, which are later cached by the LLM model as we will see later.\n",
    "\n",
    "```python\n",
    "    def add_knowledge_base(self, urls: List[str]) -> None:\n",
    "        self.add(urls)\n",
    "```\n",
    "\n",
    "\n",
    "Later, when the user sends a message to the client, the `msg()` method is used to generate a response  while enabling citations. `self.content_generator` is an instance of our LLM model, which we will go through next.\n",
    "\n",
    "```python\n",
    "    def msg(self, msg: str = \"\", add_citations: bool = False) -> str:\n",
    "        if add_citations:\n",
    "            msg = msg + \"\\n\\n For key statements, add Input ID to the response.\"\n",
    "\n",
    "        self.response = self.content_generator.generate(\n",
    "            input_content=self.input,\n",
    "            user_instructions=msg\n",
    "        )\n",
    "\n",
    "        self.response_memory = self.response_memory + self.response.text\n",
    "\n",
    "        return self.response.text\n",
    "```\n",
    "\n",
    "**Prompt Caching**\n",
    "\n",
    "LLM-based applications often involve repeatedly passing the same input tokens to a model, which can be inefficient and costly. Context caching addresses this by allowing you to cache input tokens after their first use and reference them in subsequent requests. This approach significantly reduces costs compared to repeatedly sending the same token corpus, especially at scale.\n",
    "\n",
    "In our application, the user might passes a large knowledge base to the client that can be referenced multiple times by smaller user requests. Our `Client` class is composed of a `LLMBackend` class that takes the `input_memory` containing the entire knowledge base and any additional user added content.\n",
    "```python\n",
    "self.llm = LLMBackend(input=self.input_memory)\n",
    "```\n",
    "\n",
    "In our `LLMBackend` Class, we leverage prompt caching on input tokens and uses them for subsequent requests.\n",
    "\n",
    "```python\n",
    "class LLMBackend:\n",
    "    def __init__(self, model_name: str, input: str, cache_ttl: int = 60):\n",
    "        self.cache = caching.CachedContent.create(\n",
    "            model=model_name,\n",
    "            display_name='due_knowledge_base', # used to identify the cache\n",
    "            system_instruction=(\n",
    "            self.compose_prompt(input, conversation_config)\n",
    "        ),\n",
    "        ttl=datetime.timedelta(minutes=cache_ttl),\n",
    "    )\n",
    "\n",
    "    self.model = genai.GenerativeModel.from_cached_content(cached_content=self.cache)\n",
    "```\n",
    "\n",
    "**Quiz Generation**\n",
    "\n",
    "Coming back to our `Client` class, we implement the `quiz()` method to generate a quiz based on the full input memory, i.e. the initial knowledge base and any additional user added content.\n",
    "\n",
    "The `quiz()` method returns a `Quiz` instance which behind the scenes caches input tokens. The user later can invoke its `generate()` method to generate a quiz passing the user instructions in `msg` parameter, as we will see later.\n",
    "\n",
    "```python\n",
    "    def quiz(self, add_citations: bool = True, num_questions: int = 10) -> str:\n",
    "        \"\"\"\n",
    "        Returns a quiz instance based on full input memory.\n",
    "        \"\"\"\n",
    "        self.quiz_instance = Quiz(\n",
    "                         input=self.input_memory,\n",
    "                         add_citations=add_citations,\n",
    "                         num_questions=num_questions)\n",
    "        return self.quiz_instance\n",
    "```\n",
    "\n",
    "We write a simple prompt template for quiz generation:\n",
    "\n",
    "> ROLE:\n",
    "> - You are a Harvard Professor providing a quiz.\n",
    "> INSTRUCTIONS:\n",
    "> - Generate a quiz with {num_questions} questions based on the input.\n",
    "> - The quiz should be multi-choice.\n",
    "> - Answers should be provided at the end of the quiz.\n",
    "> - Questions should have broad coverage of the input including multiple Input IDs.\n",
    "> - Level of difficulty is advanced/hard.\n",
    "> - `{citations}`\n",
    ">\n",
    "> STRUCTURE:\n",
    "> - Sequence of questions and alternatives.\n",
    "> - At the end provide the correct answers.\n",
    "\n",
    "where, `{citations}` instructs the model to add CiC citations to the response if user requests it."
   ]
  },
  {
   "cell_type": "markdown",
   "metadata": {},
   "source": [
    "#### Example Usage\n",
    "\n",
    "\n",
    "**Dataset**\n",
    "\n",
    "First, we will define our knowledge base. \n",
    "\n",
    "- Harvard Class: [GOV 1039 Syllabus](https://scholar.harvard.edu/files/dlcammack/files/gov_1039_syllabus.pdf)\n",
    "- Class / Topic: \"Rights\"\n",
    "- Reading List:\n",
    "    - ID 1. The Declaration of Independence of the United States of America\n",
    "    - ID 2. The United States Bill of Rights\n",
    "    - ID 3. John F. Kennedy's Inaugural Address\n",
    "    - ID 4. Lincoln's Gettysburg Address\n",
    "    - ID 5. The United States Constitution\n",
    "    - ID 6. Give Me Liberty or Give Me Death\n",
    "    - ID 7. The Mayflower Compact\n",
    "    - ID 8. Abraham Lincoln's Second Inaugural Address\n",
    "    - ID 9. Abraham Lincoln's First Inaugural Address\n",
    "\n",
    "We will take advantage of Project Gutenberg's to create our knowledge base."
   ]
  },
  {
   "cell_type": "code",
   "execution_count": null,
   "metadata": {},
   "outputs": [],
   "source": [
    "kb = [f\"https://www.gutenberg.org/cache/epub/{i}/pg{i}.txt\" for i in range(1,9)]"
   ]
  },
  {
   "cell_type": "markdown",
   "metadata": {},
   "source": [
    "We will import our module `gemini_duo` as `genai_duo` and initialize the `Client` class with our knowledge base."
   ]
  },
  {
   "cell_type": "code",
   "execution_count": null,
   "metadata": {},
   "outputs": [],
   "source": [
    "import gemini_duo as genai_duo\n",
    "from IPython.display import Markdown, display"
   ]
  },
  {
   "cell_type": "code",
   "execution_count": null,
   "metadata": {},
   "outputs": [],
   "source": [
    "duo = genai_duo.Client(knowledge_base=kb)"
   ]
  },
  {
   "cell_type": "markdown",
   "metadata": {},
   "source": [
    "At this point, we converted each book into markdown using MarkitDown and cached the content in our LLM model. We can access how many tokens we have cached in our LLM model by looking at the `usage_metadata` attribute of the Gemini's model response. At this point, we have cached at total of 38470 tokens.\n",
    "\n",
    "Now, we can add references to our knowledge base at anytime by calling the `add()` method. We add the following references:\n",
    "1. The Magna Carta\n",
    "2. William Shap McKechnie on Magna Carta book"
   ]
  },
  {
   "cell_type": "code",
   "execution_count": null,
   "metadata": {},
   "outputs": [],
   "source": [
    "study_references = [\"https://www.gutenberg.org/cache/epub/10000/pg10000.txt\", \"https://www.gutenberg.org/cache/epub/65363/pg65363.txt\"]\n",
    "\n",
    "duo.add(study_references)"
   ]
  },
  {
   "cell_type": "markdown",
   "metadata": {},
   "source": [
    "Now we can instantiate a `Quiz` object and generate a quiz based on the full input memory."
   ]
  },
  {
   "cell_type": "code",
   "execution_count": null,
   "metadata": {},
   "outputs": [],
   "source": [
    "quiz = duo.quiz(add_citations=True)\n",
    "display(Markdown(quiz.generate()))"
   ]
  },
  {
   "cell_type": "markdown",
   "metadata": {},
   "source": [
    "{numref}`quiz` shows a sample quiz with citations. Marked in yellow are the citations which refer to the input IDs of the resources we added to the model.\n",
    "\n",
    "```{figure} ../_static/input/quiz.png\n",
    "---\n",
    "name: quiz\n",
    "alt: Quiz with Citations\n",
    "scale: 50%\n",
    "align: center\n",
    "---\n",
    "Sample Quiz with Citations.\n",
    "```\n"
   ]
  },
  {
   "cell_type": "markdown",
   "metadata": {},
   "source": [
    "#### Discussion\n",
    "\n",
    "The experiment demonstrated the ability to build a knowledge base from multiple sources while leveraging prompt caching for efficiency and generate quizzes with citations for verifiability. The system successfully ingested content from Project Gutenberg texts, including historical documents like the Magna Carta, and used them to create interactive educational content.\n",
    "\n",
    "However, several limitations emerged during this process:\n",
    "\n",
    "1. Memory Management: The system currently loads all content into memory, which could become problematic with larger knowledge bases. A more scalable approach might involve chunking or streaming the content.\n",
    "\n",
    "2. Citation Quality: While the system provides citations, they lack specificity - pointing to entire documents rather than specific passages or page numbers. This limits the ability to fact-check or verify specific claims.\n",
    "\n",
    "3. Content Verification: While citations are provided, the system is not guaranteed to provide factual information. This could lead to potential hallucinations or misinterpretations.\n",
    "\n",
    "While limitations are present in this simple example, the case study highlights that not always complex systems are needed. Alternative simple strategies should be preferred when possible, particularly if capable, long-context window models are available and fit within the application requirements.\n"
   ]
  },
  {
   "cell_type": "markdown",
   "metadata": {},
   "source": [
    "## Conclusion\n",
    "\n",
    "This chapter has explored critical strategies and techniques for managing input data in LLM applications, focusing on three key areas: data parsing, retrieval augmentation, and practical implementation patterns. We examined how parsing tools like MarkItDown and Docling can transform diverse data formats into LLM-compatible representations, demonstrating through case studies how parser quality can impact LLM performance. The chapter also investigated retrieval augmentation techniques, particularly RAG systems, showing how they can enhance LLM capabilities by providing access to external knowledge while discussing their future relevance in the context of emerging long-context language models.\n",
    "\n",
    "Through our case studies, we demonstrated practical approaches to handling common challenges in LLM applications. The Content Chunking with Contextual Linking case study illustrated techniques for managing long-form content generation while maintaining coherence across chunks. The Quiz Generation with Citations case study showcased how long-context windows can be effectively utilized without the need for complex retrieval systems, highlighting the importance of choosing the right approach based on specific application requirements rather than defaulting to more complex solutions.\n",
    "\n",
    "As the field continues to evolve, the choice between traditional RAG systems and emerging long-context models will likely become increasingly nuanced. While RAGs offer cost-effective solutions for incorporating external knowledge, the rise of long-context models suggests a future where simpler architectures might suffice for many applications. The key insight is that effective input data management requires careful consideration of trade-offs among complexity, cost, and performance, always guided by specific application requirements rather than following a one-size-fits-all approach. Success in building robust LLM applications will depend on understanding these trade-offs and selecting appropriate strategies for each use case."
   ]
  },
  {
   "cell_type": "markdown",
   "metadata": {},
   "source": [
    "[![CC BY-NC-SA 4.0][cc-by-nc-sa-image]][cc-by-nc-sa]\n",
    "\n",
    "[cc-by-nc-sa]: http://creativecommons.org/licenses/by-nc-sa/4.0/\n",
    "[cc-by-nc-sa-image]: https://licensebuttons.net/l/by-nc-sa/4.0/88x31.png\n",
    "[cc-by-nc-sa-shield]: https://img.shields.io/badge/License-CC-BY--NC--SA-4.0-lightgrey.svg\n",
    "\n",
    "```\n",
    "@misc{tharsistpsouza2024tamingllms,\n",
    "  author = {Tharsis T. P. Souza},\n",
    "  title = {Taming LLMs: A Practical Guide to LLM Pitfalls with Open Source Software},\n",
    "  year = {2024},\n",
    "  chapter = {Managing Input Data},\n",
    "  journal = {GitHub repository},\n",
    "  url = {https://github.com/souzatharsis/tamingLLMs)\n",
    "}\n",
    "```\n",
    "## References\n",
    "```{bibliography}\n",
    ":filter: docname in docnames\n",
    "```"
   ]
  },
  {
   "cell_type": "markdown",
   "metadata": {},
   "source": []
  }
 ],
 "metadata": {
  "kernelspec": {
   "display_name": ".venv",
   "language": "python",
   "name": "python3"
  },
  "language_info": {
   "codemirror_mode": {
    "name": "ipython",
    "version": 3
   },
   "file_extension": ".py",
   "mimetype": "text/x-python",
   "name": "python",
   "nbconvert_exporter": "python",
   "pygments_lexer": "ipython3",
   "version": "3.11.11"
  }
 },
 "nbformat": 4,
 "nbformat_minor": 2
}