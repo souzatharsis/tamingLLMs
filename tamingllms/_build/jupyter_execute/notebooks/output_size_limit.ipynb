{
 "cells": [
  {
   "cell_type": "markdown",
   "metadata": {},
   "source": [
    "# Output Size Limit\n",
    "```{epigraph}\n",
    "Only those who will risk going too far can possibly find out how far one can go.\n",
    "\n",
    "-- T.S. Eliot\n",
    "```\n",
    "```{contents}\n",
    "```\n",
    "## What are Token Limits?\n",
    "\n",
    "Tokens are the basic units that LLMs process text with. A token can be as short as a single character or as long as a complete word. In English, a general rule of thumb is that 1 token ≈ 4 characters or ¾ of a word.\n",
    "\n",
    "The `max_output_tokens` is parameter often available in modern LLMs that determines the maximum length of text that an LLM can generate in a single response. {numref}`token-cost-table` shows the `max_output_tokens` for several key models, which typically range between 4096 and 16384 tokens. Contrary to what one might expect, the model does not \"summarizes the answer\" such that it does not surpass `max_output_tokens` limit. Instead, it will stop once it reaches this limit, even mid-sentence, i.e. the response may be truncated.\n",
    "\n",
    "```{table} Token Cost and Length Limitation Comparison Across Key Models\n",
    ":name: token-cost-table\n",
    "| Model                        | max_output_tokens | max_input_tokens | input_cost_per_token | output_cost_per_token |\n",
    "|------------------------------|-------------------|------------------|----------------------|-----------------------|\n",
    "| meta.llama3-2-11b-instruct-v1:0 | 4096              | 128000           | 3.5e-7               | 3.5e-7                |\n",
    "| claude-3-5-sonnet-20241022   | 8192              | 200000           | 3e-6                 | 1.5e-5                |\n",
    "| gpt-4-0613                   | 4096              | 8192             | 3e-5                 | 6e-5                  |\n",
    "| gpt-4-turbo-2024-04-09       | 4096              | 128000           | 1e-5                 | 3e-5                  |\n",
    "| gpt-4o-mini                  | 16384             | 128000           | 1.5e-7               | 6e-7                  |\n",
    "| gemini/gemini-1.5-flash-002  | 8192              | 1048576          | 7.5e-8               | 3e-7                  |\n",
    "| gemini/gemini-1.5-pro-002    | 8192              | 2097152          | 3.5e-6               | 1.05e-5               |\n",
    "```\n",
    "\n",
    "## Problem Statement\n",
    "\n",
    "The `max_output_tokens` limit in LLMs poses a significant challenge for users who need to generate long outputs, as it may result in truncated content and/or incomplete information.\n",
    "\n",
    "1. **Truncated Content**: Users aiming to generate extensive content, such as detailed reports or comprehensive articles, may find their outputs abruptly cut off due to the `max_output_tokens` limit. This truncation can result in incomplete information and disrupt the flow of the content.\n",
    "\n",
    "2. **Shallow Responses**: When users expect a complete and thorough response but receive only a partial output, it can lead to dissatisfaction and frustration. This is especially true in applications where the completeness of information is critical, such as in educational tools or content creation platforms.\n",
    "\n",
    "To effectively address these challenges, developers need to implement robust solutions that balance user expectations with technical and cost constraints, ensuring that long-form content generation remains feasible and efficient.\n",
    "\n",
    "## Content Chunking with Contextual Linking\n",
    "\n",
    "Content chunking with contextual linking is a technique used to manage the `max_output_tokens` limitation by breaking down long-form content into smaller, manageable chunks. This approach allows the LLM to focus on smaller sections of the input, enabling it to generate more complete and detailed responses for each chunk while maintaining coherence and context across the entire output.\n",
    "\n",
    "1. **Chunking the Content**: The input content is split into smaller chunks. This allows the LLM to process each chunk individually, focusing on generating a complete and detailed response for that specific section of the input.\n",
    "\n",
    "2. **Maintaining Context**: Each chunk is linked with contextual information from the previous chunks. This helps in maintaining the flow and coherence of the content across multiple chunks.\n",
    "\n",
    "3. **Generating Linked Prompts**: For each chunk, a prompt is generated that includes the chunk's content and its context. This prompt is then used to generate the output for that chunk.\n",
    "\n",
    "4. **Combining the Outputs**: The outputs of all chunks are combined to form the final long-form content.\n",
    "\n",
    "By following these steps, developers can effectively manage the `max_output_tokens` limitation and generate coherent long-form content without truncation.\n",
    "\n",
    "Let's examine an example implementation of this technique.\n",
    "\n",
    "### Generating long-form content\n",
    "\n",
    "- Goal: Generate a long-form report analyzing a company's financial statement.\n",
    "- Input: A company's 10K SEC filing.\n",
    "\n",
    "```{figure} ../_static/structured_output/diagram1.png\n",
    "---\n",
    "name: content-chunking-with-contextual-linking\n",
    "alt: Content Chunking with Contextual Linking\n",
    "scale: 50%\n",
    "align: center\n",
    "---\n",
    "Content Chunking with Contextual Linking Schematic Representation.\n",
    "```\n",
    "\n",
    "The diagram in {numref}`content-chunking-with-contextual-linking` illustrates the process we will follow for handling long-form content generation with Large Language Models through \"Content Chunking with Contextual Linking.\" It shows how input content is first split into manageable chunks using a chunking function (e.g. `CharacterTextSplitter` with `tiktoken` tokenizer), then each chunk is processed sequentially while maintaining context from previous chunks. For each chunk, the system updates the context, generates a dynamic prompt with specific parameters, makes a call to the LLM chain, and stores the response. After all chunks are processed, the individual responses are combined with newlines to create the final report, effectively working around the token limit constraints of LLMs while maintaining coherence across the generated content.\n",
    "\n",
    "\n",
    "\n",
    "#### Step 1: Chunking the Content\n",
    "\n",
    "There are different methods for chunking, and each of them might be appropriate for different situations. However, we can broadly group chunking strategies in two types:\n",
    "- **Fixed-size Chunking**: This is the most common and straightforward approach to chunking. We simply decide the number of tokens in our chunk and, optionally, whether there should be any overlap between them. In general, we will want to keep some overlap between chunks to make sure that the semantic context doesn’t get lost between chunks. Fixed-sized chunking may be a reasonable path in many common cases. Compared to other forms of chunking, fixed-sized chunking is computationally cheap and simple to use since it doesn’t require the use of any specialied techniques or libraries.\n",
    "- **Content-aware Chunking**: These are a set of methods for taking advantage of the nature of the content we’re chunking and applying more sophisticated chunking to it. Examples include:\n",
    "  - **Sentence Splitting**: Many models are optimized for embedding sentence-level content. Naturally, we would use sentence chunking, and there are several approaches and tools available to do this, including naive splitting (e.g. splitting on periods), NLTK, and spaCy.\n",
    "  - **Recursive Chunking**: Recursive chunking divides the input text into smaller chunks in a hierarchical and iterative manner using a set of separators.\n",
    "  - **Semantic Chunking**: This is a class of methods that leverages embeddings to extract the semantic meaning present in your data, creating chunks that are made up of sentences that talk about the same theme or topic."
   ]
  },
  {
   "cell_type": "markdown",
   "metadata": {},
   "source": [
    "Here, we will utilize `langchain` for a content-aware sentence-splitting strategy for chunking. Langchain offers several text splitters {cite}`langchain_text_splitters` such as JSON-, Markdown- and HTML-based or split by token. We will use the `CharacterTextSplitter` with `tiktoken` as our tokenizer to count the number of tokens per chunk which we can use to ensure that we do not surpass the input token limit of our model."
   ]
  },
  {
   "cell_type": "code",
   "execution_count": 1,
   "metadata": {},
   "outputs": [],
   "source": [
    "def get_chunks(text: str, chunk_size: int, chunk_overlap: int) -> list:\n",
    "    \"\"\"\n",
    "    Split input text into chunks of specified size with specified overlap.\n",
    "\n",
    "    Args:\n",
    "        text (str): The input text to be chunked.\n",
    "        chunk_size (int): The maximum size of each chunk in tokens.\n",
    "        chunk_overlap (int): The number of tokens to overlap between chunks.\n",
    "\n",
    "    Returns:\n",
    "        list: A list of text chunks.\n",
    "    \"\"\"\n",
    "    from langchain_text_splitters import CharacterTextSplitter\n",
    "\n",
    "    text_splitter = CharacterTextSplitter.from_tiktoken_encoder(chunk_size=chunk_size, chunk_overlap=chunk_overlap)\n",
    "    return text_splitter.split_text(text)\n"
   ]
  },
  {
   "cell_type": "markdown",
   "metadata": {},
   "source": [
    "#### Step 2: Writing the Base Prompt Template\n",
    "\n",
    "We will write a base prompt template which will serve as a foundational structure for all chunks, ensuring consistency in the instructions and context provided to the language model. The template includes the following parameters:\n",
    "- `role`: Defines the role or persona the model should assume.\n",
    "- `context`: Provides the background information or context for the task.\n",
    "- `instruction`: Specifies the task or action the model needs to perform.\n",
    "- `input_text`: Contains the actual text input that the model will process.\n",
    "- `requirements`: Lists any specific requirements or constraints for the output."
   ]
  },
  {
   "cell_type": "code",
   "execution_count": 18,
   "metadata": {},
   "outputs": [],
   "source": [
    "from langchain_core.prompts import PromptTemplate\n",
    "def get_base_prompt_template() -> str:\n",
    "    \n",
    "    base_prompt = \"\"\"\n",
    "    ROLE: {role}\n",
    "    CONTEXT: {context}\n",
    "    INSTRUCTION: {instruction}\n",
    "    INPUT: {input}\n",
    "    REQUIREMENTS: {requirements}\n",
    "    \"\"\"\n",
    "    \n",
    "    prompt = PromptTemplate.from_template(base_prompt)\n",
    "    return prompt"
   ]
  },
  {
   "cell_type": "markdown",
   "metadata": {},
   "source": [
    "We will write a simple function that returns an `LLMChain` which is a simple `langchain` construct that allows you to chain together a combination of prompt templates, language models and output parsers."
   ]
  },
  {
   "cell_type": "code",
   "execution_count": 21,
   "metadata": {},
   "outputs": [],
   "source": [
    "from langchain_core.output_parsers import StrOutputParser\n",
    "from langchain_community.chat_models import ChatLiteLLM\n",
    "\n",
    "def get_llm_chain(prompt_template: str, model_name: str, temperature: float = 0):\n",
    "    \"\"\"\n",
    "    Returns an LLMChain instance using langchain.\n",
    "\n",
    "    Args:\n",
    "        prompt_template (str): The prompt template to use.\n",
    "        model_name (str): The name of the model to use.\n",
    "        temperature (float): The temperature setting for the model.\n",
    "\n",
    "    Returns:\n",
    "        llm_chain: An instance of the LLMChain.\n",
    "    \"\"\"\n",
    "    \n",
    "    from dotenv import load_dotenv\n",
    "    import os\n",
    "\n",
    "    # Load environment variables from .env file\n",
    "    load_dotenv()\n",
    "    \n",
    "    api_key_label = model_name.split(\"/\")[0].upper() + \"_API_KEY\"\n",
    "    llm = ChatLiteLLM(\n",
    "        model=model_name,\n",
    "        temperature=temperature,\n",
    "        api_key=os.environ[api_key_label],\n",
    "    )\n",
    "    llm_chain = prompt_template | llm | StrOutputParser()\n",
    "    return llm_chain"
   ]
  },
  {
   "cell_type": "markdown",
   "metadata": {},
   "source": [
    "#### Step 3: Constructing Dynamic Prompt Parameters\n",
    "\n",
    "Now, we will write a function (`get_dynamic_prompt_template`) that constructs prompt parameters dynamically for each chunk."
   ]
  },
  {
   "cell_type": "code",
   "execution_count": 4,
   "metadata": {},
   "outputs": [],
   "source": [
    "from typing import Dict\n",
    "def get_dynamic_prompt_params(prompt_params: Dict, \n",
    "                            part_idx: int, \n",
    "                            total_parts: int,\n",
    "                            chat_context: str,\n",
    "                            chunk: str) -> str:\n",
    "    \"\"\"\n",
    "    Construct prompt template dynamically per chunk while maintaining the chat context of the response generation.\n",
    "    \n",
    "    Args:\n",
    "        prompt_params (Dict): Original prompt parameters\n",
    "        part_idx (int): Index of current conversation part\n",
    "        total_parts (int): Total number of conversation parts\n",
    "        chat_context (str): Chat context from previous parts\n",
    "        chunk (str): Current chunk of text to be processed\n",
    "    Returns:\n",
    "        str: Dynamically constructed prompt template with part-specific params\n",
    "    \"\"\"\n",
    "    dynamic_prompt_params = prompt_params.copy()\n",
    "    # saves the chat context from previous parts\n",
    "    dynamic_prompt_params[\"context\"] = chat_context\n",
    "    # saves the current chunk of text to be processed as input\n",
    "    dynamic_prompt_params[\"input\"] = chunk\n",
    "    \n",
    "    # Add part-specific instructions\n",
    "    if part_idx == 0: # Introduction part\n",
    "        dynamic_prompt_params[\"instruction\"] = f\"\"\"\n",
    "        You are generating the Introduction part of a long report.\n",
    "        Don't cover any topics yet, just define the scope of the report.\n",
    "        \"\"\"\n",
    "    elif part_idx == total_parts - 1: # Conclusion part\n",
    "        dynamic_prompt_params[\"instruction\"] = f\"\"\"\n",
    "        You are generating the last part of a long report. \n",
    "        For this part, first discuss the below INPUT. Second, write a \"Conclusion\" section summarizing the main points discussed given in CONTEXT.\n",
    "        \"\"\"\n",
    "    else: # Main analysis part\n",
    "        dynamic_prompt_params[\"instruction\"] = f\"\"\"\n",
    "        You are generating part {part_idx+1} of {total_parts} parts of a long report.\n",
    "        For this part, analyze the below INPUT.\n",
    "        Organize your response in a way that is easy to read and understand either by creating new or merging with previously created structured sections given in CONTEXT.\n",
    "        \"\"\"\n",
    "    \n",
    "    return dynamic_prompt_params"
   ]
  },
  {
   "cell_type": "markdown",
   "metadata": {},
   "source": [
    "\n",
    "#### Step 4: Generating the Report\n",
    "\n",
    "Finally, we will write a function that generates the actual report by calling the `LLMChain` with the dynamically updated prompt parameters for each chunk and concatenating the results at the end."
   ]
  },
  {
   "cell_type": "code",
   "execution_count": 5,
   "metadata": {},
   "outputs": [],
   "source": [
    "def generate_report(input_content: str, llm_model_name: str, \n",
    "                    role: str, requirements: str,\n",
    "                    chunk_size: int, chunk_overlap: int) -> str:\n",
    "    # stores the parts of the report, each generated by an individual LLM call\n",
    "    report_parts = [] \n",
    "    # split the input content into chunks\n",
    "    chunks = get_chunks(input_content, chunk_size, chunk_overlap)\n",
    "    # initialize the chat context with the input content\n",
    "    chat_context = input_content\n",
    "    # number of parts to be generated\n",
    "    num_parts = len(chunks)\n",
    "\n",
    "    prompt_params = {\n",
    "        \"role\": role, # user-provided\n",
    "        \"context\": \"\", # dinamically updated per part\n",
    "        \"instruction\": \"\", # dynamically updated per part\n",
    "        \"input\": \"\", # dynamically updated per part\n",
    "        \"requirements\": requirements #user-priovided\n",
    "    }\n",
    "\n",
    "    # get the LLMChain with the base prompt template\n",
    "    llm_chain = get_llm_chain(get_base_prompt_template(), \n",
    "                                 llm_model_name)\n",
    "\n",
    "    # dynamically update prompt_params per part\n",
    "    print(f\"Generating {num_parts} report parts\")\n",
    "    for i, chunk in enumerate(chunks):\n",
    "        dynamic_prompt_params = get_dynamic_prompt_params(\n",
    "            prompt_params,\n",
    "            part_idx=i,\n",
    "            total_parts=num_parts,\n",
    "            chat_context=chat_context,\n",
    "            chunk=chunk\n",
    "        )\n",
    "        \n",
    "        # invoke the LLMChain with the dynamically updated prompt parameters\n",
    "        response = llm_chain.invoke(dynamic_prompt_params)\n",
    "\n",
    "        # update the chat context with the cummulative response\n",
    "        if i == 0:\n",
    "            chat_context = response\n",
    "        else:\n",
    "            chat_context = chat_context + response\n",
    "            \n",
    "        print(f\"Generated part {i+1}/{num_parts}.\")\n",
    "        report_parts.append(response)\n",
    "\n",
    "    report = \"\\n\".join(report_parts)\n",
    "    return report"
   ]
  },
  {
   "cell_type": "markdown",
   "metadata": {},
   "source": [
    "#### Example Usage"
   ]
  },
  {
   "cell_type": "code",
   "execution_count": 6,
   "metadata": {},
   "outputs": [],
   "source": [
    "# Load the text from sample 10K SEC filing\n",
    "with open('../data/apple.txt', 'r') as file:\n",
    "    text = file.read()"
   ]
  },
  {
   "cell_type": "code",
   "execution_count": 7,
   "metadata": {},
   "outputs": [],
   "source": [
    "# Define the chunk and chunk overlap size\n",
    "MAX_CHUNK_SIZE = 10000\n",
    "MAX_CHUNK_OVERLAP = 0"
   ]
  },
  {
   "cell_type": "code",
   "execution_count": 22,
   "metadata": {},
   "outputs": [
    {
     "name": "stdout",
     "output_type": "stream",
     "text": [
      "Generating 5 report parts\n",
      "Generated part 1/5.\n",
      "Generated part 2/5.\n",
      "Generated part 3/5.\n",
      "Generated part 4/5.\n",
      "Generated part 5/5.\n"
     ]
    }
   ],
   "source": [
    "report = generate_report(text, llm_model_name=\"gemini/gemini-1.5-flash-latest\", \n",
    "                           role=\"Financial Analyst\", \n",
    "                           requirements=\"The report should be in a readable, structured format, easy to understand and follow. Focus on finding risk factors and market moving insights.\",\n",
    "                           chunk_size=MAX_CHUNK_SIZE, \n",
    "                           chunk_overlap=MAX_CHUNK_OVERLAP)"
   ]
  },
  {
   "cell_type": "code",
   "execution_count": 25,
   "metadata": {},
   "outputs": [],
   "source": [
    "# Save the generated report to a local file\n",
    "with open('data/apple_report.txt', 'w') as file:\n",
    "    file.write(report)\n"
   ]
  },
  {
   "cell_type": "code",
   "execution_count": 27,
   "metadata": {},
   "outputs": [
    {
     "name": "stdout",
     "output_type": "stream",
     "text": [
      "**Introduction**\n",
      "\n",
      "This report provides a comprehensive analysis of Apple Inc.'s financial performance and position for the fiscal year ended September 28, 2024, as disclosed in its Form 10-K filing with the United States Securities and Exchange Commission.  The analysis will focus on identifying key\n",
      "...\n",
      "luation.  The significant short-term obligations, while manageable given Apple's cash position, highlight the need for continued financial discipline and effective risk management.  A deeper, more granular analysis of the financial statements and notes is recommended for a more complete assessment.\n",
      "\n"
     ]
    }
   ],
   "source": [
    "print(report[:300] + \"\\n...\\n\" + report[-300:])"
   ]
  },
  {
   "cell_type": "markdown",
   "metadata": {},
   "source": [
    "### Discussion\n",
    "\n",
    "Results from the generated report present a few interesting aspects:\n",
    "\n",
    "- **Coherence**: The generated report demonstrates a high level of coherence. The sections are logically structured, and the flow of information is smooth. Each part of the report builds upon the previous sections, providing a comprehensive analysis of Apple Inc.'s financial performance and key risk factors. The use of headings and subheadings helps in maintaining clarity and organization throughout the document.\n",
    "\n",
    "- **Adherence to Instructions**: The LLM followed the provided instructions effectively. The report is in a readable, structured format, and it focuses on identifying risk factors and market-moving insights as requested. The analysis is detailed and covers various aspects of Apple's financial performance, including revenue segmentation, profitability, liquidity, and capital resources. The inclusion of market-moving insights adds value to the report, aligning with the specified requirements.\n",
    "\n",
    "Despite the high quality of the results, there are some limitations to consider:\n",
    "\n",
    "- **Depth of Analysis**: While the report covers a wide range of topics, the depth of analysis in certain sections may not be as comprehensive as a human expert's evaluation. Some nuances and contextual factors might be overlooked by the LLM. Splitting the report into multiple parts helps in mitigating this issue.\n",
    "\n",
    "- **Chunking Strategy**: The current approach splits the text into chunks based on size, which ensures that each chunk fits within the model's token limit. However, this method may disrupt the logical flow of the document, as sections of interest might be split across multiple chunks. An alternative approach could be \"structured\" chunking, where the text is divided based on meaningful sections or topics. This would preserve the coherence of each section, making it easier to follow and understand. Implementing structured chunking requires additional preprocessing to identify and segment the text appropriately, but it can significantly enhance the readability and logical flow of the generated report.\n"
   ]
  },
  {
   "cell_type": "markdown",
   "metadata": {},
   "source": [
    "## Implications\n",
    "\n",
    "Implementing context chunking with contextual linking is a practical solution to manage the output size limitations of LLMs. However, this approach comes with its own set of implications that developers must consider.\n",
    "\n",
    "1. **Increased Development Complexity**: Implementing strategies to overcome the maximum output token length introduces additional layers of complexity to the application design. It necessitates meticulous management of context across multiple outputs to maintain coherence. Ensuring that each chunk retains the necessary context for the conversation or document can be challenging and often requires advanced logic to handle transitions seamlessly.\n",
    "\n",
    "2. **Cost Implications**: Attempting to circumvent the `max_output_tokens` limitation by making multiple requests can increase the number of tokens processed, thereby raising the operational costs associated with using LLM services. Each additional request contributes to the overall token usage, which can quickly escalate costs, especially for applications with high-frequency interactions or large volumes of data.\n",
    "\n",
    "3. **Performance Bottlenecks**: Generating long outputs in segments can lead to performance bottlenecks, as each segment may require additional processing time and resources, impacting the overall efficiency of the application. The need to manage and link multiple chunks can introduce latency and reduce the responsiveness of the system, which is critical for real-time applications.\n",
    "\n",
    "By understanding these implications, developers can better prepare for the challenges associated with context chunking and contextual linking, ensuring that their applications remain efficient, cost-effective, and user-friendly.\n",
    "\n",
    "\n",
    "## Future Considerations\n",
    "\n",
    "As models evolve, we can expect several advancements that will significantly impact how we handle output size limitations:\n",
    "\n",
    "1. **Contextual Awareness**: Future LLMs will likely have improved contextual awareness - or as Mustafa Suleyman would call \"infinite memory\", enabling them to better understand and manage the context of a conversation or document over long interactions. This will reduce the need for repetitive context setting and improve the overall user experience.\n",
    "\n",
    "2. **More Efficient Token Usage**: Advances in model architecture and tokenization strategies will lead to more efficient token usage. This means that models will be able to convey the same amount of information using fewer tokens, reducing costs and improving performance.\n",
    "\n",
    "3. **Improved Compression Techniques**: As research progresses, we can expect the development of more sophisticated compression techniques that allow models to retain essential information while reducing the number of tokens required. This will be particularly useful for applications that need to summarize or condense large amounts of data.\n",
    "\n",
    "4. **Adaptive Token Limits**: Future models may implement adaptive token limits that dynamically adjust based on the complexity and requirements of the task at hand. This will provide more flexibility and efficiency in handling diverse use cases.\n",
    "\n",
    "5. **Enhanced Memory Management**: Innovations in memory management will allow models to handle larger outputs without a significant increase in computational resources. This will make it feasible to deploy advanced LLMs in resource-constrained environments.\n",
    "\n",
    "These advancements will collectively enhance the capabilities of LLMs, making them more powerful and versatile tools for a wide range of applications. However, they will also introduce new challenges and considerations that developers and researchers will need to address to fully harness their potential.\n",
    "\n",
    "\n",
    "## Conclusion\n",
    "\n",
    "In conclusion, while managing output size limitations in LLMs can be challenging, it also drives innovation in application design and optimization strategies. By implementing techniques such as context chunking, efficient prompt templates, and graceful fallbacks, developers can mitigate these limitations and enhance the performance of their applications. As the technology evolves, advancements in contextual awareness, token efficiency, and memory management will further mitigate these limitations, empowering developers to build more robust and scalable LLM-powered systems."
   ]
  },
  {
   "cell_type": "markdown",
   "metadata": {},
   "source": [
    "## Citation\n",
    "[![CC BY-NC-SA 4.0][cc-by-nc-sa-image]][cc-by-nc-sa]\n",
    "\n",
    "[cc-by-nc-sa]: http://creativecommons.org/licenses/by-nc-sa/4.0/\n",
    "[cc-by-nc-sa-image]: https://licensebuttons.net/l/by-nc-sa/4.0/88x31.png\n",
    "[cc-by-nc-sa-shield]: https://img.shields.io/badge/License-CC-BY--NC--SA-4.0-lightgrey.svg\n",
    "\n",
    "```\n",
    "@misc{tharsistpsouza2024tamingllms,\n",
    "  author = {Tharsis T. P. Souza},\n",
    "  title = {Taming LLMs: A Practical Guide to LLM Pitfalls with Open Source Software},\n",
    "  year = {2024},\n",
    "  chapter = {Output Size Limit},\n",
    "  journal = {GitHub repository},\n",
    "  url = {https://github.com/souzatharsis/tamingLLMs)\n",
    "}\n",
    "```\n",
    "\n",
    "## References\n",
    "```{bibliography}\n",
    ":filter: docname in docnames\n",
    "```"
   ]
  },
  {
   "cell_type": "markdown",
   "metadata": {},
   "source": []
  }
 ],
 "metadata": {
  "kernelspec": {
   "display_name": ".venv",
   "language": "python",
   "name": "python3"
  },
  "language_info": {
   "codemirror_mode": {
    "name": "ipython",
    "version": 3
   },
   "file_extension": ".py",
   "mimetype": "text/x-python",
   "name": "python",
   "nbconvert_exporter": "python",
   "pygments_lexer": "ipython3",
   "version": "3.12.3"
  }
 },
 "nbformat": 4,
 "nbformat_minor": 2
}